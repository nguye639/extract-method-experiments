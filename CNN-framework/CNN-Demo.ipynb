{
 "cells": [
  {
   "cell_type": "code",
   "execution_count": 12,
   "metadata": {},
   "outputs": [],
   "source": [
    "#import libraries\n",
    "import pandas as pd\n",
    "import numpy as np\n",
    "import matplotlib.pyplot as plt\n",
    "from sklearn.preprocessing import StandardScaler\n",
    "import tensorflow as tf\n",
    "from keras.models import Sequential\n",
    "from keras.layers import Dropout, LSTM, Flatten, Dense, BatchNormalization\n",
    "from keras.layers.convolutional import Conv1D, MaxPooling1D\n",
    "from sklearn import metrics\n",
    "from sklearn.metrics import roc_auc_score\n",
    "from sklearn.metrics import precision_recall_curve\n",
    "from sklearn.metrics import auc\n",
    "from sklearn.metrics import confusion_matrix"
   ]
  },
  {
   "cell_type": "markdown",
   "metadata": {},
   "source": [
    "# Data Input and Model Creation"
   ]
  },
  {
   "cell_type": "code",
   "execution_count": 13,
   "metadata": {},
   "outputs": [],
   "source": [
    "def normalize(data): \n",
    "    for i in data.columns:\n",
    "        data[i] = (data[i] - np.mean(data[i]))/np.std(data[i])\n",
    "    return np.nan_to_num(data)"
   ]
  },
  {
   "cell_type": "code",
   "execution_count": 14,
   "metadata": {},
   "outputs": [],
   "source": [
    "\"\"\"\n",
    "Function takes in preprocessed data (classes balanced, duplicates removed, NOT normalized)\n",
    "The standard scaler has to be exported so it is important to normalize the data here\n",
    "\n",
    "Change the paths in trainFull and TestFull to desired preprocessedData\n",
    "\n",
    "\"\"\"\n",
    "def getPreprocessedData():\n",
    "    \n",
    "    #Concatenate positive and negative samples\n",
    "    trainFull = pd.read_csv(\"PreprocessedData/trainFull.csv\")\n",
    "    testFull = pd.read_csv(\"PreprocessedData/testFull.csv\")\n",
    "\n",
    "    trainFull = trainFull.sample(frac = 1)\n",
    "    testFull = testFull.sample(frac = 1)\n",
    "    \n",
    "    #Reduce features and extract labels\n",
    "    trainX = trainFull.iloc[:,:-1]\n",
    "    trainY = trainFull.iloc[:,-1]\n",
    "    testX = testFull.iloc[:,:-1]\n",
    "    testY = testFull.iloc[:,-1]\n",
    "\n",
    "    trainX = normalize(trainX)\n",
    "    testX = normalize(testX)\n",
    "\n",
    "    trainX = trainX[..., None]\n",
    "    trainY = trainY.to_numpy()[..., None]\n",
    "    testX = testX[..., None]\n",
    "    testY = testY.to_numpy()[..., None]\n",
    "\n",
    "    return trainX, trainY, testX, testY\n"
   ]
  },
  {
   "cell_type": "code",
   "execution_count": 15,
   "metadata": {},
   "outputs": [],
   "source": [
    "\"\"\"\n",
    "This method contains the architecture for the CNN used.\n",
    "It uses tensorflow sequential as the basis to crease the model.\n",
    "\n",
    "@param numConvFilters: number of convolutional filters in the 2nd hidden layer. We recommend >32 to upscale.\n",
    "@param dropout: fraction of nodes dropped out of the Max Pooling layer.\n",
    "@param numDenseNodes: number of dense nodes in the feed forward layer.\n",
    "\n",
    "Recommended:\n",
    "numConvFilters = 242\n",
    "dropout = .215\n",
    "numDenseNodes = 190\n",
    "\n",
    "\"\"\"\n",
    "def newModel(numConvFilters = 242, dropout = .215, numDenseNodes = 190):\n",
    "    #Create new sequential model\n",
    "    model = Sequential()\n",
    "\n",
    "    #Add 1D Convolutional layers\n",
    "    model.add((Conv1D(filters=32, kernel_size=3, activation='relu')))\n",
    "    model.add((Conv1D(filters=numConvFilters, kernel_size=3, activation='relu')))\n",
    "    #Add Max Pooling layer\n",
    "    model.add((MaxPooling1D(pool_size=2)))\n",
    "    #Apply dropout\n",
    "    model.add(Dropout(dropout))\n",
    "    #Flatten model\n",
    "    model.add(Flatten())\n",
    "    #Add fully connected dense layer\n",
    "    model.add(Dense(numDenseNodes, activation='sigmoid'))\n",
    "    #Add output node\n",
    "    model.add(Dense(1, activation='sigmoid'))\n",
    "    \n",
    "    #Define optimizer\n",
    "    adam = tf.optimizers.Adam(learning_rate=0.001, beta_1=0.9, beta_2=0.999, epsilon=None, decay=0.0)\n",
    "    #Compile model\n",
    "    model.compile(optimizer=adam, loss='binary_crossentropy', metrics=[tf.keras.metrics.AUC(curve='PR'),   \n",
    "                                                                       tf.keras.metrics.PrecisionAtRecall(0.8)])\n",
    "    return model"
   ]
  },
  {
   "cell_type": "code",
   "execution_count": 16,
   "metadata": {},
   "outputs": [
    {
     "name": "stdout",
     "output_type": "stream",
     "text": [
      "Epoch 1/30\n",
      "758/758 [==============================] - 20s 25ms/step - loss: 0.5745 - auc_3: 0.7666 - precision_at_recall_3: 0.6557\n",
      "Epoch 2/30\n",
      "758/758 [==============================] - 15s 20ms/step - loss: 0.5270 - auc_3: 0.8182 - precision_at_recall_3: 0.6867\n",
      "Epoch 3/30\n",
      "758/758 [==============================] - 15s 20ms/step - loss: 0.5067 - auc_3: 0.8336 - precision_at_recall_3: 0.7103\n",
      "Epoch 4/30\n",
      "758/758 [==============================] - 17s 22ms/step - loss: 0.4924 - auc_3: 0.8443 - precision_at_recall_3: 0.7250\n",
      "Epoch 5/30\n",
      "758/758 [==============================] - 18s 24ms/step - loss: 0.4769 - auc_3: 0.8546 - precision_at_recall_3: 0.7389\n",
      "Epoch 6/30\n",
      "758/758 [==============================] - 19s 26ms/step - loss: 0.4647 - auc_3: 0.8629 - precision_at_recall_3: 0.7545\n",
      "Epoch 7/30\n",
      "758/758 [==============================] - 22s 30ms/step - loss: 0.4549 - auc_3: 0.8706 - precision_at_recall_3: 0.7656 3s - loss:\n",
      "Epoch 8/30\n",
      "758/758 [==============================] - 21s 27ms/step - loss: 0.4409 - auc_3: 0.8781 - precision_at_recall_3: 0.7774\n",
      "Epoch 9/30\n",
      "758/758 [==============================] - 17s 22ms/step - loss: 0.4301 - auc_3: 0.8852 - precision_at_recall_3: 0.7830\n",
      "Epoch 10/30\n",
      "758/758 [==============================] - 17s 22ms/step - loss: 0.4175 - auc_3: 0.8927 - precision_at_recall_3: 0.7958\n",
      "Epoch 11/30\n",
      "758/758 [==============================] - 20s 26ms/step - loss: 0.4039 - auc_3: 0.8994 - precision_at_recall_3: 0.8137\n",
      "Epoch 12/30\n",
      "758/758 [==============================] - 17s 22ms/step - loss: 0.3859 - auc_3: 0.9086 - precision_at_recall_3: 0.8283\n",
      "Epoch 13/30\n",
      "758/758 [==============================] - 17s 22ms/step - loss: 0.3689 - auc_3: 0.9173 - precision_at_recall_3: 0.8421\n",
      "Epoch 14/30\n",
      "758/758 [==============================] - 16s 22ms/step - loss: 0.3498 - auc_3: 0.9267 - precision_at_recall_3: 0.8615\n",
      "Epoch 15/30\n",
      "758/758 [==============================] - 16s 21ms/step - loss: 0.3317 - auc_3: 0.9343 - precision_at_recall_3: 0.8790\n",
      "Epoch 16/30\n",
      "758/758 [==============================] - 18s 24ms/step - loss: 0.3076 - auc_3: 0.9444 - precision_at_recall_3: 0.8949\n",
      "Epoch 17/30\n",
      "758/758 [==============================] - 17s 22ms/step - loss: 0.2917 - auc_3: 0.9494 - precision_at_recall_3: 0.9131\n",
      "Epoch 18/30\n",
      "758/758 [==============================] - 16s 22ms/step - loss: 0.2720 - auc_3: 0.9571 - precision_at_recall_3: 0.9300\n",
      "Epoch 19/30\n",
      "758/758 [==============================] - 16s 21ms/step - loss: 0.2528 - auc_3: 0.9628 - precision_at_recall_3: 0.9434\n",
      "Epoch 20/30\n",
      "758/758 [==============================] - 17s 22ms/step - loss: 0.2378 - auc_3: 0.9673 - precision_at_recall_3: 0.9502\n",
      "Epoch 21/30\n",
      "758/758 [==============================] - 16s 22ms/step - loss: 0.2248 - auc_3: 0.9711 - precision_at_recall_3: 0.9603 1s - loss: 0.2233 - auc_3: 0.9715 - preci\n",
      "Epoch 22/30\n",
      "758/758 [==============================] - 16s 21ms/step - loss: 0.2080 - auc_3: 0.9754 - precision_at_recall_3: 0.9658\n",
      "Epoch 23/30\n",
      "758/758 [==============================] - 22s 29ms/step - loss: 0.1936 - auc_3: 0.9792 - precision_at_recall_3: 0.9749\n",
      "Epoch 24/30\n",
      "758/758 [==============================] - 21s 28ms/step - loss: 0.1783 - auc_3: 0.9817 - precision_at_recall_3: 0.9792\n",
      "Epoch 25/30\n",
      "758/758 [==============================] - 22s 29ms/step - loss: 0.1683 - auc_3: 0.9844 - precision_at_recall_3: 0.9824\n",
      "Epoch 26/30\n",
      "758/758 [==============================] - 27s 35ms/step - loss: 0.1604 - auc_3: 0.9858 - precision_at_recall_3: 0.9862\n",
      "Epoch 27/30\n",
      "758/758 [==============================] - 18s 24ms/step - loss: 0.1495 - auc_3: 0.9879 - precision_at_recall_3: 0.9883\n",
      "Epoch 28/30\n",
      "758/758 [==============================] - 15s 20ms/step - loss: 0.1387 - auc_3: 0.9895 - precision_at_recall_3: 0.9920\n",
      "Epoch 29/30\n",
      "758/758 [==============================] - 15s 20ms/step - loss: 0.1309 - auc_3: 0.9906 - precision_at_recall_3: 0.9936\n",
      "Epoch 30/30\n",
      "758/758 [==============================] - 18s 24ms/step - loss: 0.1225 - auc_3: 0.9921 - precision_at_recall_3: 0.9951\n"
     ]
    },
    {
     "data": {
      "text/plain": [
       "<keras.callbacks.History at 0x7faa9ff6f4c0>"
      ]
     },
     "execution_count": 16,
     "metadata": {},
     "output_type": "execute_result"
    }
   ],
   "source": [
    "trainX, trainY, testX, testY = getPreprocessedData()\n",
    "model = newModel()\n",
    "model.fit(trainX, trainY, epochs = 30, batch_size=20, verbose = 1)"
   ]
  },
  {
   "cell_type": "markdown",
   "metadata": {},
   "source": [
    "# Validation and Analysis "
   ]
  },
  {
   "cell_type": "code",
   "execution_count": 17,
   "metadata": {},
   "outputs": [],
   "source": [
    "#create confusion Matrix\n",
    "def confusionMatrix(model, testX, testY):\n",
    "    pred = model.predict(testX)\n",
    "    predy = []\n",
    "    for i in range(0,len(pred)):\n",
    "        if pred[i] >= .5:\n",
    "            predy.append(1)\n",
    "        else:\n",
    "            predy.append(0)\n",
    "        \n",
    "    print(confusion_matrix(testY,predy))\n",
    "    \n",
    "#Calculates our model metrics\n",
    "def modelMetrics(testX, testY, model):\n",
    "    y_scores = model.predict(testX)\n",
    "    precision, recall, thresholds = precision_recall_curve(testY, y_scores)\n",
    "    rec80 = np.max(recall[precision >= .8])\n",
    "    print(\"Recall at 80% Precision: \" +str(rec80))\n",
    "    aucPR = auc(recall, precision)\n",
    "    print(\"PR-AUC: \" + str(aucPR))\n",
    "    \n",
    "    return rec80, aucPR, \n",
    "\n",
    "#plots a PR curve\n",
    "def PRplot(testX, testY, model):\n",
    "    y_scores = model.predict(testX)\n",
    "    precision, recall, thresholds = precision_recall_curve(testY, y_scores)\n",
    "    plt.plot(recall, precision)\n",
    "    plt.title(\"PR curve\")\n",
    "    plt.xlabel(\"Recall\")\n",
    "    plt.ylabel(\"Precision\")"
   ]
  },
  {
   "cell_type": "code",
   "execution_count": 18,
   "metadata": {},
   "outputs": [
    {
     "name": "stdout",
     "output_type": "stream",
     "text": [
      "Recall at 80% Precision: 0.8928759894459103\n",
      "PR-AUC: 0.9170186100130359\n",
      "[[1603  292]\n",
      " [ 328 1567]]\n"
     ]
    },
    {
     "data": {
      "image/png": "[encoded data removed]",
      "text/plain": [
       "<Figure size 432x288 with 1 Axes>"
      ]
     },
     "metadata": {
      "needs_background": "light"
     },
     "output_type": "display_data"
    }
   ],
   "source": [
    "modelMetrics(testX, testY, model)\n",
    "confusionMatrix(model, testX, testY)\n",
    "PRplot(testX, testY, model)"
   ]
  },
  {
   "cell_type": "code",
   "execution_count": null,
   "metadata": {},
   "outputs": [],
   "source": []
  }
 ],
 "metadata": {
  "kernelspec": {
   "display_name": "Python 3 (ipykernel)",
   "language": "python",
   "name": "python3"
  },
  "language_info": {
   "codemirror_mode": {
    "name": "ipython",
    "version": 3
   },
   "file_extension": ".py",
   "mimetype": "text/x-python",
   "name": "python",
   "nbconvert_exporter": "python",
   "pygments_lexer": "ipython3",
   "version": "3.9.7"
  }
 },
 "nbformat": 4,
 "nbformat_minor": 2
}
