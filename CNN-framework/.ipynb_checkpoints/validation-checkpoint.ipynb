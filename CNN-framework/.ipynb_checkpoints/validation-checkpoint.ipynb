{
 "cells": [
  {
   "cell_type": "code",
   "execution_count": 24,
   "metadata": {},
   "outputs": [],
   "source": [
    "#import libraries\n",
    "import pandas as pd\n",
    "import numpy as np\n",
    "import matplotlib.pyplot as plt\n",
    "from sklearn.preprocessing import StandardScaler\n",
    "import tensorflow as tf\n",
    "from keras.models import Sequential\n",
    "from keras.layers import Dropout, LSTM, Flatten, Dense, BatchNormalization\n",
    "from keras.layers.convolutional import Conv1D, MaxPooling1D\n",
    "from sklearn import metrics\n",
    "from sklearn.metrics import roc_auc_score\n",
    "from sklearn.metrics import precision_recall_curve\n",
    "from sklearn.metrics import auc\n",
    "from sklearn.metrics import confusion_matrix"
   ]
  },
  {
   "cell_type": "code",
   "execution_count": 2,
   "metadata": {},
   "outputs": [],
   "source": [
    "def normalize(data): \n",
    "    for i in data.columns:\n",
    "        data[i] = (data[i] - np.mean(data[i]))/np.std(data[i])\n",
    "    return np.nan_to_num(data)"
   ]
  },
  {
   "cell_type": "code",
   "execution_count": 19,
   "metadata": {},
   "outputs": [],
   "source": [
    "#Concatenate positive and negative samples\n",
    "trainFull = pd.read_csv(\"PreprocessedData/trainFull.csv\")\n",
    "testFull = pd.read_csv(\"PreprocessedData/testFull.csv\")\n",
    "\n",
    "trainFull = trainFull.sample(frac = 1)\n",
    "testFull = testFull.sample(frac = 1)\n",
    "    \n",
    "#Reduce features and extract labels\n",
    "trainX = trainFull.iloc[:,:-2]\n",
    "trainY = trainFull.iloc[:,-1]\n",
    "testX = testFull.iloc[:,:-2]\n",
    "testY = testFull.iloc[:,-1]\n",
    "\n",
    "trainX = normalize(trainX)\n",
    "testX = normalize(testX)\n",
    "\n",
    "#Reshape data to 3D for CNN\n",
    "\n",
    "trainX = trainX[..., None]\n",
    "trainY = trainY.to_numpy()[..., None]\n",
    "testX = testX[..., None]\n",
    "testY = testY.to_numpy()[..., None]\n"
   ]
  },
  {
   "cell_type": "code",
   "execution_count": 28,
   "metadata": {},
   "outputs": [],
   "source": [
    "def newModel(numConvFilters = 242, dropout = .215, numDenseNodes = 190):\n",
    "    #Create new sequential model\n",
    "    model = Sequential()\n",
    "\n",
    "    #Add 1D Convolutional layers\n",
    "    model.add((Conv1D(filters=32, kernel_size=3, activation='relu')))\n",
    "    model.add((Conv1D(filters=numConvFilters, kernel_size=3, activation='relu')))\n",
    "    #Add Max Pooling layer\n",
    "    model.add((MaxPooling1D(pool_size=2)))\n",
    "    #Apply dropout\n",
    "    model.add(Dropout(dropout))\n",
    "    #Flatten model\n",
    "    model.add(Flatten())\n",
    "    #Add fully connected dense layer\n",
    "    model.add(Dense(numDenseNodes, activation='sigmoid'))\n",
    "    #Add output node\n",
    "    model.add(Dense(1, activation='sigmoid'))\n",
    "    \n",
    "    #Define optimizer\n",
    "    adam = tf.optimizers.Adam(learning_rate=0.001, beta_1=0.9, beta_2=0.999, epsilon=None, decay=0.0)\n",
    "    #Compile model\n",
    "    model.compile(optimizer=adam, loss='binary_crossentropy', metrics=[tf.keras.metrics.AUC(curve='PR'),   \n",
    "                                                                       tf.keras.metrics.PrecisionAtRecall(0.8)])\n",
    "    return model"
   ]
  },
  {
   "cell_type": "code",
   "execution_count": 25,
   "metadata": {},
   "outputs": [
    {
     "name": "stdout",
     "output_type": "stream",
     "text": [
      "Epoch 1/30\n",
      "758/758 [==============================] - 24s 29ms/step - loss: 0.5767 - auc_4: 0.7642 - precision_at_recall_4: 0.6512\n",
      "Epoch 2/30\n",
      "758/758 [==============================] - 24s 32ms/step - loss: 0.5338 - auc_4: 0.8111 - precision_at_recall_4: 0.6920\n",
      "Epoch 3/30\n",
      "758/758 [==============================] - 30s 40ms/step - loss: 0.5132 - auc_4: 0.8292 - precision_at_recall_4: 0.7028\n",
      "Epoch 4/30\n",
      "758/758 [==============================] - 34s 44ms/step - loss: 0.4988 - auc_4: 0.8411 - precision_at_recall_4: 0.7109\n",
      "Epoch 5/30\n",
      "758/758 [==============================] - 36s 48ms/step - loss: 0.4821 - auc_4: 0.8516 - precision_at_recall_4: 0.7327 0s - loss: 0.4817 - auc_4: 0.8518 - precision_at_recall_4\n",
      "Epoch 6/30\n",
      "758/758 [==============================] - 27s 36ms/step - loss: 0.4699 - auc_4: 0.8608 - precision_at_recall_4: 0.7439\n",
      "Epoch 7/30\n",
      "758/758 [==============================] - 20s 26ms/step - loss: 0.4565 - auc_4: 0.8702 - precision_at_recall_4: 0.7600\n",
      "Epoch 8/30\n",
      "758/758 [==============================] - 18s 23ms/step - loss: 0.4432 - auc_4: 0.8772 - precision_at_recall_4: 0.7666\n",
      "Epoch 9/30\n",
      "758/758 [==============================] - 18s 23ms/step - loss: 0.4306 - auc_4: 0.8846 - precision_at_recall_4: 0.7805\n",
      "Epoch 10/30\n",
      "758/758 [==============================] - 18s 24ms/step - loss: 0.4080 - auc_4: 0.8971 - precision_at_recall_4: 0.8063\n",
      "Epoch 11/30\n",
      "758/758 [==============================] - 18s 24ms/step - loss: 0.3963 - auc_4: 0.9034 - precision_at_recall_4: 0.8201\n",
      "Epoch 12/30\n",
      "758/758 [==============================] - 18s 23ms/step - loss: 0.3740 - auc_4: 0.9144 - precision_at_recall_4: 0.8299\n",
      "Epoch 13/30\n",
      "758/758 [==============================] - 18s 24ms/step - loss: 0.3527 - auc_4: 0.9254 - precision_at_recall_4: 0.8577\n",
      "Epoch 14/30\n",
      "758/758 [==============================] - 19s 25ms/step - loss: 0.3344 - auc_4: 0.9325 - precision_at_recall_4: 0.8759\n",
      "Epoch 15/30\n",
      "758/758 [==============================] - 18s 24ms/step - loss: 0.3182 - auc_4: 0.9401 - precision_at_recall_4: 0.8904\n",
      "Epoch 16/30\n",
      "758/758 [==============================] - 18s 24ms/step - loss: 0.2983 - auc_4: 0.9477 - precision_at_recall_4: 0.9051\n",
      "Epoch 17/30\n",
      "758/758 [==============================] - 19s 25ms/step - loss: 0.2800 - auc_4: 0.9546 - precision_at_recall_4: 0.9240\n",
      "Epoch 18/30\n",
      "758/758 [==============================] - 19s 25ms/step - loss: 0.2670 - auc_4: 0.9587 - precision_at_recall_4: 0.9291 2s - loss: 0.2654 - auc_4: 0.9593 \n",
      "Epoch 19/30\n",
      "758/758 [==============================] - 32s 42ms/step - loss: 0.2561 - auc_4: 0.9622 - precision_at_recall_4: 0.9398\n",
      "Epoch 20/30\n",
      "758/758 [==============================] - 27s 35ms/step - loss: 0.2381 - auc_4: 0.9680 - precision_at_recall_4: 0.9524\n",
      "Epoch 21/30\n",
      "758/758 [==============================] - 20s 26ms/step - loss: 0.2304 - auc_4: 0.9698 - precision_at_recall_4: 0.9565\n",
      "Epoch 22/30\n",
      "758/758 [==============================] - 28s 37ms/step - loss: 0.2177 - auc_4: 0.9734 - precision_at_recall_4: 0.9643 1s - loss: 0.2170 - auc_4: 0.9\n",
      "Epoch 23/30\n",
      "758/758 [==============================] - 33s 44ms/step - loss: 0.2093 - auc_4: 0.9752 - precision_at_recall_4: 0.9664\n",
      "Epoch 24/30\n",
      "758/758 [==============================] - 25s 33ms/step - loss: 0.1959 - auc_4: 0.9782 - precision_at_recall_4: 0.9724\n",
      "Epoch 25/30\n",
      "758/758 [==============================] - 22s 29ms/step - loss: 0.1900 - auc_4: 0.9797 - precision_at_recall_4: 0.9766\n",
      "Epoch 26/30\n",
      "758/758 [==============================] - 29s 39ms/step - loss: 0.1866 - auc_4: 0.9803 - precision_at_recall_4: 0.9782\n",
      "Epoch 27/30\n",
      "758/758 [==============================] - 27s 36ms/step - loss: 0.1778 - auc_4: 0.9823 - precision_at_recall_4: 0.9827\n",
      "Epoch 28/30\n",
      "758/758 [==============================] - 19s 26ms/step - loss: 0.1716 - auc_4: 0.9836 - precision_at_recall_4: 0.9851 6s - loss: 0.1634 - auc_4: 0.9854 \n",
      "Epoch 29/30\n",
      "758/758 [==============================] - 21s 28ms/step - loss: 0.1658 - auc_4: 0.9845 - precision_at_recall_4: 0.9843\n",
      "Epoch 30/30\n",
      "758/758 [==============================] - 21s 28ms/step - loss: 0.1593 - auc_4: 0.9858 - precision_at_recall_4: 0.9871\n"
     ]
    },
    {
     "data": {
      "text/plain": [
       "<keras.callbacks.History at 0x7f98b7972460>"
      ]
     },
     "execution_count": 25,
     "metadata": {},
     "output_type": "execute_result"
    }
   ],
   "source": [
    "model = newModel()\n",
    "model.fit(trainX, trainY, epochs = 30, batch_size=20, verbose = 1)"
   ]
  },
  {
   "cell_type": "code",
   "execution_count": 26,
   "metadata": {},
   "outputs": [],
   "source": [
    "#create confusion Matrix\n",
    "def confusionMatrix(model, testX, testY):\n",
    "    pred = model.predict(testX)\n",
    "    predy = []\n",
    "    for i in range(0,len(pred)):\n",
    "        if pred[i] >= .5:\n",
    "            predy.append(1)\n",
    "        else:\n",
    "            predy.append(0)\n",
    "        \n",
    "    print(confusion_matrix(testY,predy))\n",
    "    \n",
    "#Calculates our model metrics\n",
    "def modelMetrics(testX, testY, model):\n",
    "    y_scores = model.predict(testX)\n",
    "    precision, recall, thresholds = precision_recall_curve(testY, y_scores)\n",
    "    rec80 = np.max(recall[precision >= .8])\n",
    "    print(\"Recall at 80% Precision: \" +str(rec80))\n",
    "    aucPR = auc(recall, precision)\n",
    "    print(\"PR-AUC: \" + str(aucPR))\n",
    "    \n",
    "    return rec80, aucPR, \n",
    "\n",
    "#plots a PR curve\n",
    "def PRplot(testX, testY, model):\n",
    "    y_scores = model.predict(testX)\n",
    "    precision, recall, thresholds = precision_recall_curve(testY, y_scores)\n",
    "    plt.plot(recall, precision)\n",
    "    plt.title(\"PR curve\")\n",
    "    plt.xlabel(\"Recall\")\n",
    "    plt.ylabel(\"Precision\")"
   ]
  },
  {
   "cell_type": "code",
   "execution_count": 27,
   "metadata": {},
   "outputs": [
    {
     "name": "stdout",
     "output_type": "stream",
     "text": [
      "Recall at 80% Precision: 0.8775725593667546\n",
      "PR-AUC: 0.9152249555017694\n",
      "[[1553  342]\n",
      " [ 299 1596]]\n"
     ]
    },
    {
     "data": {
      "image/png": "[encoded data removed]",
      "text/plain": [
       "<Figure size 432x288 with 1 Axes>"
      ]
     },
     "metadata": {
      "needs_background": "light"
     },
     "output_type": "display_data"
    }
   ],
   "source": [
    "\n",
    "modelMetrics(testX, testY, model)\n",
    "confusionMatrix(model, testX, testY)\n",
    "PRplot(testX, testY, model)"
   ]
  },
  {
   "cell_type": "code",
   "execution_count": null,
   "metadata": {},
   "outputs": [],
   "source": []
  }
 ],
 "metadata": {
  "kernelspec": {
   "display_name": "Python 3 (ipykernel)",
   "language": "python",
   "name": "python3"
  },
  "language_info": {
   "codemirror_mode": {
    "name": "ipython",
    "version": 3
   },
   "file_extension": ".py",
   "mimetype": "text/x-python",
   "name": "python",
   "nbconvert_exporter": "python",
   "pygments_lexer": "ipython3",
   "version": "3.9.7"
  }
 },
 "nbformat": 4,
 "nbformat_minor": 2
}
