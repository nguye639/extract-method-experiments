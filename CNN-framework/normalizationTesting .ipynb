{
 "cells": [
  {
   "cell_type": "code",
   "execution_count": 1,
   "metadata": {},
   "outputs": [],
   "source": [
    "#import libraries\n",
    "import pandas as pd\n",
    "import numpy as np\n",
    "import matplotlib.pyplot as plt\n",
    "from sklearn.preprocessing import StandardScaler\n",
    "import tensorflow as tf\n",
    "from keras.models import Sequential\n",
    "from keras.layers import Dropout, LSTM, Flatten, Dense, BatchNormalization\n",
    "from keras.layers.convolutional import Conv1D, MaxPooling1D\n",
    "from sklearn import metrics\n",
    "from sklearn.metrics import roc_auc_score\n",
    "from sklearn.metrics import precision_recall_curve\n",
    "from sklearn.metrics import auc\n",
    "from sklearn.metrics import confusion_matrix"
   ]
  },
  {
   "cell_type": "code",
   "execution_count": 2,
   "metadata": {},
   "outputs": [],
   "source": [
    "#create confusion Matrix\n",
    "def confusionMatrix(model, testX, testY):\n",
    "    pred = model.predict(testX)\n",
    "    predy = []\n",
    "    for i in range(0,len(pred)):\n",
    "        if pred[i] >= .5:\n",
    "            predy.append(1)\n",
    "        else:\n",
    "            predy.append(0)\n",
    "        \n",
    "    print(confusion_matrix(testY,predy))\n",
    "    \n",
    "#Calculates our model metrics\n",
    "def modelMetrics(testX, testY, model):\n",
    "    y_scores = model.predict(testX)\n",
    "    precision, recall, thresholds = precision_recall_curve(testY, y_scores)\n",
    "    rec80 = np.max(recall[precision >= .8])\n",
    "    print(\"Recall at 80% Precision: \" +str(rec80))\n",
    "    aucPR = auc(recall, precision)\n",
    "    print(\"PR-AUC: \" + str(aucPR))\n",
    "    \n",
    "    return rec80, aucPR, \n",
    "\n",
    "#plots a PR curve\n",
    "def PRplot(testX, testY, model):\n",
    "    y_scores = model.predict(testX)\n",
    "    precision, recall, thresholds = precision_recall_curve(testY, y_scores)\n",
    "    plt.plot(recall, precision)\n",
    "    plt.title(\"PR curve\")\n",
    "    plt.xlabel(\"Recall\")\n",
    "    plt.ylabel(\"Precision\")"
   ]
  },
  {
   "cell_type": "code",
   "execution_count": 3,
   "metadata": {},
   "outputs": [],
   "source": [
    "def normalize(data): \n",
    "    for i in data.columns:\n",
    "        data[i] = (data[i] - np.mean(data[i]))/np.std(data[i])\n",
    "    return np.nan_to_num(data)"
   ]
  },
  {
   "cell_type": "code",
   "execution_count": 4,
   "metadata": {},
   "outputs": [],
   "source": [
    "#Concatenate positive and negative samples\n",
    "trainFull = pd.read_csv(\"PreprocessedData/trainFull.csv\")\n",
    "testFull = pd.read_csv(\"PreprocessedData/testFull.csv\")\n",
    "\n",
    "trainFull = trainFull.sample(frac = 1)\n",
    "testFull = testFull.sample(frac = 1)\n",
    "    \n",
    "#Reduce features and extract labels\n",
    "trainX = trainFull.iloc[:,:-2]\n",
    "trainY = trainFull.iloc[:,-1]\n",
    "testX = testFull.iloc[:,:-2]\n",
    "testY = testFull.iloc[:,-1]\n",
    "\n",
    "trainX = normalize(trainX)\n",
    "testX = normalize(testX)\n",
    "\n",
    "#Reshape data to 3D for CNN\n",
    "\n",
    "trainX = trainX[..., None]\n",
    "trainY = trainY.to_numpy()[..., None]\n",
    "testX = testX[..., None]\n",
    "testY = testY.to_numpy()[..., None]\n"
   ]
  },
  {
   "cell_type": "code",
   "execution_count": 5,
   "metadata": {},
   "outputs": [],
   "source": [
    "def newModel(numConvFilters = 242, dropout = .215, numDenseNodes = 190):\n",
    "    #Create new sequential model\n",
    "    model = Sequential()\n",
    "\n",
    "    #Add 1D Convolutional layers\n",
    "    model.add((Conv1D(filters=32, kernel_size=3, activation='relu')))\n",
    "    model.add((Conv1D(filters=numConvFilters, kernel_size=3, activation='relu')))\n",
    "    #Add Max Pooling layer\n",
    "    model.add((MaxPooling1D(pool_size=2)))\n",
    "    #Apply dropout\n",
    "    model.add(Dropout(dropout))\n",
    "    #Flatten model\n",
    "    model.add(Flatten())\n",
    "    #Add fully connected dense layer\n",
    "    model.add(Dense(numDenseNodes, activation='sigmoid'))\n",
    "    #Add output node\n",
    "    model.add(Dense(1, activation='sigmoid'))\n",
    "    \n",
    "    #Define optimizer\n",
    "    adam = tf.optimizers.Adam(learning_rate=0.001, beta_1=0.9, beta_2=0.999, epsilon=None, decay=0.0)\n",
    "    #Compile model\n",
    "    model.compile(optimizer=adam, loss='binary_crossentropy', metrics=[tf.keras.metrics.AUC(curve='PR'),   \n",
    "                                                                       tf.keras.metrics.PrecisionAtRecall(0.8)])\n",
    "    return model"
   ]
  },
  {
   "cell_type": "code",
   "execution_count": 6,
   "metadata": {},
   "outputs": [
    {
     "name": "stderr",
     "output_type": "stream",
     "text": [
      "2022-04-15 14:37:00.843991: I tensorflow/core/platform/cpu_feature_guard.cc:142] This TensorFlow binary is optimized with oneAPI Deep Neural Network Library (oneDNN) to use the following CPU instructions in performance-critical operations:  AVX2 FMA\n",
      "To enable them in other operations, rebuild TensorFlow with the appropriate compiler flags.\n",
      "2022-04-15 14:37:01.330494: I tensorflow/compiler/mlir/mlir_graph_optimization_pass.cc:185] None of the MLIR Optimization Passes are enabled (registered 2)\n"
     ]
    },
    {
     "name": "stdout",
     "output_type": "stream",
     "text": [
      "Epoch 1/30\n",
      "758/758 [==============================] - 27s 31ms/step - loss: 0.5799 - auc: 0.7632 - precision_at_recall: 0.6463\n",
      "Epoch 2/30\n",
      "758/758 [==============================] - 18s 24ms/step - loss: 0.5263 - auc: 0.8187 - precision_at_recall: 0.6958\n",
      "Epoch 3/30\n",
      "758/758 [==============================] - 16s 21ms/step - loss: 0.5038 - auc: 0.8367 - precision_at_recall: 0.7155\n",
      "Epoch 4/30\n",
      "758/758 [==============================] - 17s 22ms/step - loss: 0.4879 - auc: 0.8479 - precision_at_recall: 0.7273\n",
      "Epoch 5/30\n",
      "758/758 [==============================] - 17s 23ms/step - loss: 0.4769 - auc: 0.8554 - precision_at_recall: 0.7419\n",
      "Epoch 6/30\n",
      "758/758 [==============================] - 18s 24ms/step - loss: 0.4662 - auc: 0.8637 - precision_at_recall: 0.7499\n",
      "Epoch 7/30\n",
      "758/758 [==============================] - 18s 24ms/step - loss: 0.4559 - auc: 0.8704 - precision_at_recall: 0.7582\n",
      "Epoch 8/30\n",
      "758/758 [==============================] - 17s 22ms/step - loss: 0.4459 - auc: 0.8748 - precision_at_recall: 0.7700\n",
      "Epoch 9/30\n",
      "758/758 [==============================] - 17s 23ms/step - loss: 0.4317 - auc: 0.8842 - precision_at_recall: 0.7805 0s - loss: 0.4306 - auc: 0.8846 - precision_at_recall\n",
      "Epoch 10/30\n",
      "758/758 [==============================] - 23s 30ms/step - loss: 0.4241 - auc: 0.8887 - precision_at_recall: 0.7938\n",
      "Epoch 11/30\n",
      "758/758 [==============================] - 16s 21ms/step - loss: 0.4061 - auc: 0.8978 - precision_at_recall: 0.8051\n",
      "Epoch 12/30\n",
      "758/758 [==============================] - 22s 30ms/step - loss: 0.3938 - auc: 0.9053 - precision_at_recall: 0.8236 2s - loss: 0.3936 -\n",
      "Epoch 13/30\n",
      "758/758 [==============================] - 16s 22ms/step - loss: 0.3792 - auc: 0.9131 - precision_at_recall: 0.8317\n",
      "Epoch 14/30\n",
      "758/758 [==============================] - 20s 26ms/step - loss: 0.3582 - auc: 0.9223 - precision_at_recall: 0.8556\n",
      "Epoch 15/30\n",
      "758/758 [==============================] - 23s 30ms/step - loss: 0.3412 - auc: 0.9299 - precision_at_recall: 0.8618\n",
      "Epoch 16/30\n",
      "758/758 [==============================] - 20s 26ms/step - loss: 0.3191 - auc: 0.9387 - precision_at_recall: 0.8832\n",
      "Epoch 17/30\n",
      "758/758 [==============================] - 17s 22ms/step - loss: 0.3027 - auc: 0.9454 - precision_at_recall: 0.9009\n",
      "Epoch 18/30\n",
      "758/758 [==============================] - 21s 28ms/step - loss: 0.2827 - auc: 0.9530 - precision_at_recall: 0.9162\n",
      "Epoch 19/30\n",
      "758/758 [==============================] - 19s 26ms/step - loss: 0.2634 - auc: 0.9598 - precision_at_recall: 0.9275 2s - loss: 0.\n",
      "Epoch 20/30\n",
      "758/758 [==============================] - 26s 34ms/step - loss: 0.2475 - auc: 0.9647 - precision_at_recall: 0.9444\n",
      "Epoch 21/30\n",
      "758/758 [==============================] - 28s 37ms/step - loss: 0.2277 - auc: 0.9706 - precision_at_recall: 0.9570\n",
      "Epoch 22/30\n",
      "758/758 [==============================] - 22s 29ms/step - loss: 0.2102 - auc: 0.9748 - precision_at_recall: 0.9674\n",
      "Epoch 23/30\n",
      "758/758 [==============================] - 23s 31ms/step - loss: 0.1960 - auc: 0.9782 - precision_at_recall: 0.9726\n",
      "Epoch 24/30\n",
      "758/758 [==============================] - 25s 33ms/step - loss: 0.1834 - auc: 0.9812 - precision_at_recall: 0.9793\n",
      "Epoch 25/30\n",
      "758/758 [==============================] - 21s 27ms/step - loss: 0.1715 - auc: 0.9838 - precision_at_recall: 0.9838\n",
      "Epoch 26/30\n",
      "758/758 [==============================] - 21s 28ms/step - loss: 0.1617 - auc: 0.9852 - precision_at_recall: 0.9872\n",
      "Epoch 27/30\n",
      "758/758 [==============================] - 21s 28ms/step - loss: 0.1467 - auc: 0.9884 - precision_at_recall: 0.9917\n",
      "Epoch 28/30\n",
      "758/758 [==============================] - 25s 33ms/step - loss: 0.1407 - auc: 0.9893 - precision_at_recall: 0.9930 2s - loss: 0.1398 - auc: 0.989\n",
      "Epoch 29/30\n",
      "758/758 [==============================] - 26s 34ms/step - loss: 0.1293 - auc: 0.9910 - precision_at_recall: 0.9952\n",
      "Epoch 30/30\n",
      "758/758 [==============================] - 23s 30ms/step - loss: 0.1271 - auc: 0.9909 - precision_at_recall: 0.9943\n"
     ]
    },
    {
     "data": {
      "text/plain": [
       "<keras.callbacks.History at 0x7fd858907130>"
      ]
     },
     "execution_count": 6,
     "metadata": {},
     "output_type": "execute_result"
    }
   ],
   "source": [
    "model0 = newModel()\n",
    "model0.fit(trainX, trainY, epochs = 30, batch_size=20, verbose = 1)"
   ]
  },
  {
   "cell_type": "code",
   "execution_count": 11,
   "metadata": {},
   "outputs": [],
   "source": [
    "#Concatenate positive and negative samples\n",
    "trainFull = pd.read_csv(\"PreprocessedData/trainFull.csv\")\n",
    "testFull = pd.read_csv(\"PreprocessedData/testFull.csv\")\n",
    "\n",
    "trainFull = trainFull.sample(frac = 1)\n",
    "testFull = testFull.sample(frac = 1)\n",
    "    \n",
    "#Reduce features and extract labels\n",
    "trainX2 = trainFull.iloc[:,:-2]\n",
    "trainY2 = trainFull.iloc[:,-1]\n",
    "testX2 = testFull.iloc[:,:-2]\n",
    "testY2 = testFull.iloc[:,-1]\n",
    "\n",
    "#trainX = normalize(trainX)\n",
    "#testX = normalize(testX)\n",
    "\n",
    "#Reshape data to 3D for CNN\n",
    "\n",
    "trainX2 = trainX2.to_numpy()[..., None]\n",
    "trainY2 = trainY2.to_numpy()[..., None]\n",
    "testX2 = testX2.to_numpy()[..., None]\n",
    "testY2 = testY2.to_numpy()[..., None]\n"
   ]
  },
  {
   "cell_type": "code",
   "execution_count": 12,
   "metadata": {},
   "outputs": [],
   "source": [
    "def newModel(numConvFilters = 242, dropout = .215, numDenseNodes = 190):\n",
    "    #Create new sequential model\n",
    "    model = Sequential()\n",
    "\n",
    "    #Add 1D Convolutional layers\n",
    "    model.add(BatchNormalization())\n",
    "    model.add((Conv1D(filters=32, kernel_size=3, activation='relu')))\n",
    "    model.add((Conv1D(filters=numConvFilters, kernel_size=3, activation='relu')))\n",
    "    #Add Max Pooling layer\n",
    "    model.add((MaxPooling1D(pool_size=2)))\n",
    "    #Apply dropout\n",
    "    model.add(Dropout(dropout))\n",
    "    #Flatten model\n",
    "    model.add(Flatten())\n",
    "    #Add fully connected dense layer\n",
    "    model.add(Dense(numDenseNodes, activation='sigmoid'))\n",
    "    #Add output node\n",
    "    model.add(Dense(1, activation='sigmoid'))\n",
    "    \n",
    "    #Define optimizer\n",
    "    adam = tf.optimizers.Adam(learning_rate=0.001, beta_1=0.9, beta_2=0.999, epsilon=None, decay=0.0)\n",
    "    #Compile model\n",
    "    model.compile(optimizer=adam, loss='binary_crossentropy', metrics=[tf.keras.metrics.AUC(curve='PR'),   \n",
    "                                                                       tf.keras.metrics.PrecisionAtRecall(0.8)])\n",
    "    return model"
   ]
  },
  {
   "cell_type": "code",
   "execution_count": 13,
   "metadata": {},
   "outputs": [
    {
     "name": "stdout",
     "output_type": "stream",
     "text": [
      "Epoch 1/30\n",
      "758/758 [==============================] - 23s 29ms/step - loss: 0.6762 - auc_1: 0.5888 - precision_at_recall_1: 0.5416\n",
      "Epoch 2/30\n",
      "758/758 [==============================] - 18s 24ms/step - loss: 0.6512 - auc_1: 0.6431 - precision_at_recall_1: 0.5692\n",
      "Epoch 3/30\n",
      "758/758 [==============================] - 20s 27ms/step - loss: 0.6451 - auc_1: 0.6526 - precision_at_recall_1: 0.5832\n",
      "Epoch 4/30\n",
      "758/758 [==============================] - 19s 25ms/step - loss: 0.6408 - auc_1: 0.6555 - precision_at_recall_1: 0.5874\n",
      "Epoch 5/30\n",
      "758/758 [==============================] - 21s 28ms/step - loss: 0.6333 - auc_1: 0.6702 - precision_at_recall_1: 0.5973\n",
      "Epoch 6/30\n",
      "758/758 [==============================] - 23s 31ms/step - loss: 0.6281 - auc_1: 0.6767 - precision_at_recall_1: 0.6039\n",
      "Epoch 7/30\n",
      "758/758 [==============================] - 25s 33ms/step - loss: 0.6210 - auc_1: 0.6866 - precision_at_recall_1: 0.6123\n",
      "Epoch 8/30\n",
      "758/758 [==============================] - 25s 34ms/step - loss: 0.6123 - auc_1: 0.6987 - precision_at_recall_1: 0.6170\n",
      "Epoch 9/30\n",
      "758/758 [==============================] - 20s 27ms/step - loss: 0.6045 - auc_1: 0.7101 - precision_at_recall_1: 0.6248\n",
      "Epoch 10/30\n",
      "758/758 [==============================] - 17s 22ms/step - loss: 0.6016 - auc_1: 0.7140 - precision_at_recall_1: 0.6252\n",
      "Epoch 11/30\n",
      "758/758 [==============================] - 19s 24ms/step - loss: 0.5967 - auc_1: 0.7174 - precision_at_recall_1: 0.6373\n",
      "Epoch 12/30\n",
      "758/758 [==============================] - 19s 25ms/step - loss: 0.5933 - auc_1: 0.7211 - precision_at_recall_1: 0.6385\n",
      "Epoch 13/30\n",
      "758/758 [==============================] - 17s 22ms/step - loss: 0.5916 - auc_1: 0.7232 - precision_at_recall_1: 0.6367\n",
      "Epoch 14/30\n",
      "758/758 [==============================] - 17s 22ms/step - loss: 0.5863 - auc_1: 0.7300 - precision_at_recall_1: 0.6433\n",
      "Epoch 15/30\n",
      "758/758 [==============================] - 20s 26ms/step - loss: 0.5838 - auc_1: 0.7329 - precision_at_recall_1: 0.6474\n",
      "Epoch 16/30\n",
      "758/758 [==============================] - 19s 25ms/step - loss: 0.5788 - auc_1: 0.7401 - precision_at_recall_1: 0.6489\n",
      "Epoch 17/30\n",
      "758/758 [==============================] - 19s 26ms/step - loss: 0.5791 - auc_1: 0.7407 - precision_at_recall_1: 0.6477\n",
      "Epoch 18/30\n",
      "758/758 [==============================] - 22s 30ms/step - loss: 0.5742 - auc_1: 0.7466 - precision_at_recall_1: 0.6550\n",
      "Epoch 19/30\n",
      "758/758 [==============================] - 21s 28ms/step - loss: 0.5686 - auc_1: 0.7510 - precision_at_recall_1: 0.6626\n",
      "Epoch 20/30\n",
      "758/758 [==============================] - 20s 26ms/step - loss: 0.5672 - auc_1: 0.7552 - precision_at_recall_1: 0.6609\n",
      "Epoch 21/30\n",
      "758/758 [==============================] - 21s 28ms/step - loss: 0.5622 - auc_1: 0.7625 - precision_at_recall_1: 0.6638\n",
      "Epoch 22/30\n",
      "758/758 [==============================] - 22s 29ms/step - loss: 0.5585 - auc_1: 0.7693 - precision_at_recall_1: 0.6697\n",
      "Epoch 23/30\n",
      "758/758 [==============================] - 22s 29ms/step - loss: 0.5571 - auc_1: 0.7709 - precision_at_recall_1: 0.6705\n",
      "Epoch 24/30\n",
      "758/758 [==============================] - 19s 25ms/step - loss: 0.5518 - auc_1: 0.7784 - precision_at_recall_1: 0.6744\n",
      "Epoch 25/30\n",
      "758/758 [==============================] - 21s 27ms/step - loss: 0.5515 - auc_1: 0.7788 - precision_at_recall_1: 0.6722\n",
      "Epoch 26/30\n",
      "758/758 [==============================] - 21s 28ms/step - loss: 0.5340 - auc_1: 0.7989 - precision_at_recall_1: 0.6916\n",
      "Epoch 27/30\n",
      "758/758 [==============================] - 20s 27ms/step - loss: 0.5341 - auc_1: 0.7978 - precision_at_recall_1: 0.6929\n",
      "Epoch 28/30\n",
      "758/758 [==============================] - ETA: 0s - loss: 0.5196 - auc_1: 0.8124 - precision_at_recall_1: 0.7036- ETA: 3s - los - 25s 33ms/step - loss: 0.5197 - auc_1: 0.8122 - precision_at_recall_1: 0.7033\n",
      "Epoch 29/30\n",
      "758/758 [==============================] - 22s 29ms/step - loss: 0.5177 - auc_1: 0.8163 - precision_at_recall_1: 0.7044\n",
      "Epoch 30/30\n",
      "758/758 [==============================] - 24s 31ms/step - loss: 0.5130 - auc_1: 0.8203 - precision_at_recall_1: 0.7103\n"
     ]
    },
    {
     "data": {
      "text/plain": [
       "<keras.callbacks.History at 0x7fd85a5b9580>"
      ]
     },
     "execution_count": 13,
     "metadata": {},
     "output_type": "execute_result"
    }
   ],
   "source": [
    "model1 = newModel()\n",
    "model1.fit(trainX2, trainY2, epochs = 30, batch_size=20, verbose = 1)"
   ]
  },
  {
   "cell_type": "code",
   "execution_count": 15,
   "metadata": {},
   "outputs": [
    {
     "name": "stdout",
     "output_type": "stream",
     "text": [
      "Epoch 1/30\n",
      "758/758 [==============================] - 18s 22ms/step - loss: 0.5788 - auc_2: 0.7639 - precision_at_recall_2: 0.6487\n",
      "Epoch 2/30\n",
      "758/758 [==============================] - 21s 28ms/step - loss: 0.5301 - auc_2: 0.8139 - precision_at_recall_2: 0.6933\n",
      "Epoch 3/30\n",
      "758/758 [==============================] - 22s 29ms/step - loss: 0.5109 - auc_2: 0.8306 - precision_at_recall_2: 0.7075\n",
      "Epoch 4/30\n",
      "758/758 [==============================] - 23s 30ms/step - loss: 0.4944 - auc_2: 0.8441 - precision_at_recall_2: 0.7227\n",
      "Epoch 5/30\n",
      "758/758 [==============================] - 19s 24ms/step - loss: 0.4798 - auc_2: 0.8541 - precision_at_recall_2: 0.7373\n",
      "Epoch 6/30\n",
      "758/758 [==============================] - 20s 26ms/step - loss: 0.4658 - auc_2: 0.8637 - precision_at_recall_2: 0.7523\n",
      "Epoch 7/30\n",
      "758/758 [==============================] - 21s 27ms/step - loss: 0.4517 - auc_2: 0.8721 - precision_at_recall_2: 0.7631\n",
      "Epoch 8/30\n",
      "758/758 [==============================] - 20s 27ms/step - loss: 0.4363 - auc_2: 0.8811 - precision_at_recall_2: 0.7748\n",
      "Epoch 9/30\n",
      "758/758 [==============================] - 18s 24ms/step - loss: 0.4182 - auc_2: 0.8917 - precision_at_recall_2: 0.7976\n",
      "Epoch 10/30\n",
      "758/758 [==============================] - 21s 28ms/step - loss: 0.4019 - auc_2: 0.9005 - precision_at_recall_2: 0.8105\n",
      "Epoch 11/30\n",
      "758/758 [==============================] - 18s 23ms/step - loss: 0.3785 - auc_2: 0.9124 - precision_at_recall_2: 0.8352\n",
      "Epoch 12/30\n",
      "758/758 [==============================] - 17s 22ms/step - loss: 0.3595 - auc_2: 0.9221 - precision_at_recall_2: 0.8532\n",
      "Epoch 13/30\n",
      "758/758 [==============================] - 16s 21ms/step - loss: 0.3409 - auc_2: 0.9298 - precision_at_recall_2: 0.8649\n",
      "Epoch 14/30\n",
      "758/758 [==============================] - 16s 21ms/step - loss: 0.3173 - auc_2: 0.9397 - precision_at_recall_2: 0.8858\n",
      "Epoch 15/30\n",
      "758/758 [==============================] - 16s 22ms/step - loss: 0.3063 - auc_2: 0.9444 - precision_at_recall_2: 0.8988\n",
      "Epoch 16/30\n",
      "758/758 [==============================] - 16s 22ms/step - loss: 0.2895 - auc_2: 0.9503 - precision_at_recall_2: 0.9097\n",
      "Epoch 17/30\n",
      "758/758 [==============================] - 19s 25ms/step - loss: 0.2724 - auc_2: 0.9565 - precision_at_recall_2: 0.9265\n",
      "Epoch 18/30\n",
      "758/758 [==============================] - 22s 28ms/step - loss: 0.2546 - auc_2: 0.9630 - precision_at_recall_2: 0.9382 3s - loss: 0.2\n",
      "Epoch 19/30\n",
      "758/758 [==============================] - 22s 29ms/step - loss: 0.2461 - auc_2: 0.9645 - precision_at_recall_2: 0.9438\n",
      "Epoch 20/30\n",
      "758/758 [==============================] - 22s 29ms/step - loss: 0.2338 - auc_2: 0.9687 - precision_at_recall_2: 0.9521\n",
      "Epoch 21/30\n",
      "758/758 [==============================] - 22s 29ms/step - loss: 0.2209 - auc_2: 0.9723 - precision_at_recall_2: 0.9602\n",
      "Epoch 22/30\n",
      "758/758 [==============================] - 17s 23ms/step - loss: 0.2084 - auc_2: 0.9757 - precision_at_recall_2: 0.9679\n",
      "Epoch 23/30\n",
      "758/758 [==============================] - 21s 27ms/step - loss: 0.2044 - auc_2: 0.9763 - precision_at_recall_2: 0.9677\n",
      "Epoch 24/30\n",
      "758/758 [==============================] - 23s 31ms/step - loss: 0.1922 - auc_2: 0.9788 - precision_at_recall_2: 0.9749\n",
      "Epoch 25/30\n",
      "758/758 [==============================] - 18s 24ms/step - loss: 0.1848 - auc_2: 0.9809 - precision_at_recall_2: 0.9786\n",
      "Epoch 26/30\n",
      "758/758 [==============================] - 17s 23ms/step - loss: 0.1790 - auc_2: 0.9822 - precision_at_recall_2: 0.9797\n",
      "Epoch 27/30\n",
      "758/758 [==============================] - 18s 24ms/step - loss: 0.1720 - auc_2: 0.9835 - precision_at_recall_2: 0.9824\n",
      "Epoch 28/30\n",
      "758/758 [==============================] - 22s 28ms/step - loss: 0.1657 - auc_2: 0.9847 - precision_at_recall_2: 0.9850\n",
      "Epoch 29/30\n",
      "758/758 [==============================] - 18s 24ms/step - loss: 0.1569 - auc_2: 0.9863 - precision_at_recall_2: 0.9872\n",
      "Epoch 30/30\n",
      "758/758 [==============================] - 19s 25ms/step - loss: 0.1599 - auc_2: 0.9855 - precision_at_recall_2: 0.9859\n"
     ]
    },
    {
     "data": {
      "text/plain": [
       "<keras.callbacks.History at 0x7fd85aea5910>"
      ]
     },
     "execution_count": 15,
     "metadata": {},
     "output_type": "execute_result"
    }
   ],
   "source": [
    "model2 = newModel()\n",
    "model2.fit(trainX, trainY, epochs = 30, batch_size=20, verbose = 1)"
   ]
  },
  {
   "cell_type": "code",
   "execution_count": 16,
   "metadata": {},
   "outputs": [
    {
     "name": "stdout",
     "output_type": "stream",
     "text": [
      "Standard Scaled\n",
      "Recall at 80% Precision: 0.9050131926121372\n",
      "PR-AUC: 0.9226334498014034\n",
      "[[1611  284]\n",
      " [ 312 1583]]\n"
     ]
    },
    {
     "data": {
      "image/png": "[encoded data removed]",
      "text/plain": [
       "<Figure size 432x288 with 1 Axes>"
      ]
     },
     "metadata": {
      "needs_background": "light"
     },
     "output_type": "display_data"
    }
   ],
   "source": [
    "print(\"Standard Scaled\")\n",
    "modelMetrics(testX, testY, model0)\n",
    "confusionMatrix(model0, testX, testY)\n",
    "PRplot(testX, testY, model0)\n"
   ]
  },
  {
   "cell_type": "code",
   "execution_count": 18,
   "metadata": {},
   "outputs": [
    {
     "name": "stdout",
     "output_type": "stream",
     "text": [
      "Batch Normalized\n",
      "Recall at 80% Precision: 0.6696569920844327\n",
      "PR-AUC: 0.8412815674940174\n",
      "[[1360  535]\n",
      " [ 383 1512]]\n"
     ]
    },
    {
     "data": {
      "image/png": "[encoded data removed]",
      "text/plain": [
       "<Figure size 432x288 with 1 Axes>"
      ]
     },
     "metadata": {
      "needs_background": "light"
     },
     "output_type": "display_data"
    }
   ],
   "source": [
    "print(\"Batch Normalized\")\n",
    "modelMetrics(testX2, testY2, model1)\n",
    "confusionMatrix(model1, testX2, testY2)\n",
    "PRplot(testX2, testY2, model1)"
   ]
  },
  {
   "cell_type": "code",
   "execution_count": 19,
   "metadata": {},
   "outputs": [
    {
     "name": "stdout",
     "output_type": "stream",
     "text": [
      "Batch Normalized and Standard Scaled\n",
      "Recall at 80% Precision: 0.899736147757256\n",
      "PR-AUC: 0.9231188121168559\n",
      "[[1610  285]\n",
      " [ 324 1571]]\n"
     ]
    },
    {
     "data": {
      "image/png": "[encoded data removed]",
      "text/plain": [
       "<Figure size 432x288 with 1 Axes>"
      ]
     },
     "metadata": {
      "needs_background": "light"
     },
     "output_type": "display_data"
    }
   ],
   "source": [
    "print(\"Batch Normalized and Standard Scaled\")\n",
    "modelMetrics(testX, testY, model2)\n",
    "confusionMatrix(model2, testX, testY)\n",
    "PRplot(testX, testY, model2)"
   ]
  },
  {
   "cell_type": "code",
   "execution_count": null,
   "metadata": {},
   "outputs": [],
   "source": []
  }
 ],
 "metadata": {
  "kernelspec": {
   "display_name": "Python 3 (ipykernel)",
   "language": "python",
   "name": "python3"
  },
  "language_info": {
   "codemirror_mode": {
    "name": "ipython",
    "version": 3
   },
   "file_extension": ".py",
   "mimetype": "text/x-python",
   "name": "python",
   "nbconvert_exporter": "python",
   "pygments_lexer": "ipython3",
   "version": "3.9.7"
  }
 },
 "nbformat": 4,
 "nbformat_minor": 2
}
