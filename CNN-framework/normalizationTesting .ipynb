{
 "cells": [
  {
   "cell_type": "code",
   "execution_count": 9,
   "metadata": {},
   "outputs": [],
   "source": [
    "#import libraries\n",
    "import pandas as pd\n",
    "import numpy as np\n",
    "import matplotlib.pyplot as plt\n",
    "from sklearn.preprocessing import StandardScaler\n",
    "import tensorflow as tf\n",
    "from keras.models import Sequential\n",
    "from keras.layers import Dropout, LSTM, Flatten, Dense, BatchNormalization\n",
    "from keras.layers.convolutional import Conv1D, MaxPooling1D\n",
    "from sklearn import metrics\n",
    "from sklearn.metrics import roc_auc_score\n",
    "from sklearn.metrics import precision_recall_curve\n",
    "from sklearn.metrics import auc\n",
    "from sklearn.metrics import confusion_matrix"
   ]
  },
  {
   "cell_type": "code",
   "execution_count": 10,
   "metadata": {},
   "outputs": [],
   "source": [
    "#create confusion Matrix\n",
    "def confusionMatrix(model, testX, testY):\n",
    "    pred = model.predict(testX)\n",
    "    predy = []\n",
    "    for i in range(0,len(pred)):\n",
    "        if pred[i] >= .5:\n",
    "            predy.append(1)\n",
    "        else:\n",
    "            predy.append(0)\n",
    "        \n",
    "    print(confusion_matrix(testY,predy))\n",
    "    \n",
    "#Calculates our model metrics\n",
    "def modelMetrics(testX, testY, model):\n",
    "    y_scores = model.predict(testX)\n",
    "    precision, recall, thresholds = precision_recall_curve(testY, y_scores)\n",
    "    rec80 = np.max(recall[precision >= .8])\n",
    "    print(\"Recall at 80% Precision: \" +str(rec80))\n",
    "    aucPR = auc(recall, precision)\n",
    "    print(\"PR-AUC: \" + str(aucPR))\n",
    "    \n",
    "    return rec80, aucPR, \n",
    "\n",
    "#plots a PR curve\n",
    "def PRplot(testX, testY, model):\n",
    "    y_scores = model.predict(testX)\n",
    "    precision, recall, thresholds = precision_recall_curve(testY, y_scores)\n",
    "    plt.plot(recall, precision)\n",
    "    plt.title(\"PR curve\")\n",
    "    plt.xlabel(\"Recall\")\n",
    "    plt.ylabel(\"Precision\")"
   ]
  },
  {
   "cell_type": "code",
   "execution_count": 11,
   "metadata": {},
   "outputs": [],
   "source": [
    "def normalize(data): \n",
    "    for i in data.columns:\n",
    "        data[i] = (data[i] - np.mean(data[i]))/np.std(data[i])\n",
    "    return np.nan_to_num(data)"
   ]
  },
  {
   "cell_type": "code",
   "execution_count": 12,
   "metadata": {},
   "outputs": [],
   "source": [
    "#Concatenate positive and negative samples\n",
    "trainFull = pd.read_csv(\"PreprocessedData/trainFull.csv\")\n",
    "testFull = pd.read_csv(\"PreprocessedData/testFull.csv\")\n",
    "\n",
    "trainFull = trainFull.sample(frac = 1)\n",
    "testFull = testFull.sample(frac = 1)\n",
    "    \n",
    "#Reduce features and extract labels\n",
    "trainX = trainFull.iloc[:,:-1]\n",
    "trainY = trainFull.iloc[:,-1]\n",
    "testX = testFull.iloc[:,:-1]\n",
    "testY = testFull.iloc[:,-1]\n",
    "\n",
    "trainX = normalize(trainX)\n",
    "testX = normalize(testX)\n",
    "\n",
    "trainX = trainX[..., None]\n",
    "trainY = trainY.to_numpy()[..., None]\n",
    "testX = testX[..., None]\n",
    "testY = testY.to_numpy()[..., None]\n"
   ]
  },
  {
   "cell_type": "code",
   "execution_count": 7,
   "metadata": {},
   "outputs": [],
   "source": [
    "def newModel(numConvFilters = 242, dropout = .215, numDenseNodes = 190):\n",
    "    #Create new sequential model\n",
    "    model = Sequential()\n",
    "\n",
    "    #Add 1D Convolutional layers\n",
    "    model.add((Conv1D(filters=32, kernel_size=3, activation='relu')))\n",
    "    model.add((Conv1D(filters=numConvFilters, kernel_size=3, activation='relu')))\n",
    "    #Add Max Pooling layer\n",
    "    model.add((MaxPooling1D(pool_size=2)))\n",
    "    #Apply dropout\n",
    "    model.add(Dropout(dropout))\n",
    "    #Flatten model\n",
    "    model.add(Flatten())\n",
    "    #Add fully connected dense layer\n",
    "    model.add(Dense(numDenseNodes, activation='sigmoid'))\n",
    "    #Add output node\n",
    "    model.add(Dense(1, activation='sigmoid'))\n",
    "    \n",
    "    #Define optimizer\n",
    "    adam = tf.optimizers.Adam(learning_rate=0.001, beta_1=0.9, beta_2=0.999, epsilon=None, decay=0.0)\n",
    "    #Compile model\n",
    "    model.compile(optimizer=adam, loss='binary_crossentropy', metrics=[tf.keras.metrics.AUC(curve='PR'),   \n",
    "                                                                       tf.keras.metrics.PrecisionAtRecall(0.8)])\n",
    "    return model"
   ]
  },
  {
   "cell_type": "code",
   "execution_count": 8,
   "metadata": {},
   "outputs": [
    {
     "name": "stderr",
     "output_type": "stream",
     "text": [
      "2022-04-21 12:11:11.395873: I tensorflow/core/platform/cpu_feature_guard.cc:142] This TensorFlow binary is optimized with oneAPI Deep Neural Network Library (oneDNN) to use the following CPU instructions in performance-critical operations:  AVX2 FMA\n",
      "To enable them in other operations, rebuild TensorFlow with the appropriate compiler flags.\n",
      "2022-04-21 12:11:11.904732: I tensorflow/compiler/mlir/mlir_graph_optimization_pass.cc:185] None of the MLIR Optimization Passes are enabled (registered 2)\n"
     ]
    },
    {
     "name": "stdout",
     "output_type": "stream",
     "text": [
      "Epoch 1/30\n",
      "758/758 [==============================] - 21s 26ms/step - loss: 0.5733 - auc: 0.7686 - precision_at_recall: 0.6486 - val_loss: 0.5308 - val_auc: 0.8125 - val_precision_at_recall: 0.6941\n",
      "Epoch 2/30\n",
      "758/758 [==============================] - 18s 24ms/step - loss: 0.5240 - auc: 0.8211 - precision_at_recall: 0.6896 - val_loss: 0.5007 - val_auc: 0.8410 - val_precision_at_recall: 0.7150\n",
      "Epoch 3/30\n",
      "758/758 [==============================] - 18s 23ms/step - loss: 0.5015 - auc: 0.8381 - precision_at_recall: 0.7198 - val_loss: 0.4887 - val_auc: 0.8496 - val_precision_at_recall: 0.7194\n",
      "Epoch 4/30\n",
      "758/758 [==============================] - 18s 23ms/step - loss: 0.4838 - auc: 0.8516 - precision_at_recall: 0.7333 - val_loss: 0.4830 - val_auc: 0.8564 - val_precision_at_recall: 0.7290\n",
      "Epoch 5/30\n",
      "758/758 [==============================] - 19s 25ms/step - loss: 0.4729 - auc: 0.8585 - precision_at_recall: 0.7459 - val_loss: 0.4643 - val_auc: 0.8669 - val_precision_at_recall: 0.7484\n",
      "Epoch 6/30\n",
      "758/758 [==============================] - 20s 26ms/step - loss: 0.4586 - auc: 0.8686 - precision_at_recall: 0.7562 - val_loss: 0.4535 - val_auc: 0.8727 - val_precision_at_recall: 0.7609\n",
      "Epoch 7/30\n",
      "758/758 [==============================] - 19s 25ms/step - loss: 0.4469 - auc: 0.8755 - precision_at_recall: 0.7696 - val_loss: 0.4611 - val_auc: 0.8763 - val_precision_at_recall: 0.7672\n",
      "Epoch 8/30\n",
      "758/758 [==============================] - 19s 26ms/step - loss: 0.4342 - auc: 0.8827 - precision_at_recall: 0.7821 - val_loss: 0.4386 - val_auc: 0.8800 - val_precision_at_recall: 0.7723\n",
      "Epoch 9/30\n",
      " 92/758 [==>...........................] - ETA: 18s - loss: 0.4169 - auc: 0.8917 - precision_at_recall: 0.7918"
     ]
    },
    {
     "ename": "KeyboardInterrupt",
     "evalue": "",
     "output_type": "error",
     "traceback": [
      "\u001b[0;31m---------------------------------------------------------------------------\u001b[0m",
      "\u001b[0;31mKeyboardInterrupt\u001b[0m                         Traceback (most recent call last)",
      "\u001b[0;32m/var/folders/fr/03zv9zcj7j146mrr4jsb58kw0000gn/T/ipykernel_16023/3710103983.py\u001b[0m in \u001b[0;36m<module>\u001b[0;34m\u001b[0m\n\u001b[1;32m      1\u001b[0m \u001b[0mmodel\u001b[0m\u001b[0;34m=\u001b[0m \u001b[0mnewModel\u001b[0m\u001b[0;34m(\u001b[0m\u001b[0;34m)\u001b[0m\u001b[0;34m\u001b[0m\u001b[0;34m\u001b[0m\u001b[0m\n\u001b[0;32m----> 2\u001b[0;31m \u001b[0mmodel\u001b[0m\u001b[0;34m.\u001b[0m\u001b[0mfit\u001b[0m\u001b[0;34m(\u001b[0m\u001b[0mtrainX\u001b[0m\u001b[0;34m,\u001b[0m \u001b[0mtrainY\u001b[0m\u001b[0;34m,\u001b[0m \u001b[0mvalidation_data\u001b[0m \u001b[0;34m=\u001b[0m \u001b[0;34m(\u001b[0m\u001b[0mtestX\u001b[0m\u001b[0;34m,\u001b[0m \u001b[0mtestY\u001b[0m\u001b[0;34m)\u001b[0m\u001b[0;34m,\u001b[0m \u001b[0mepochs\u001b[0m \u001b[0;34m=\u001b[0m \u001b[0;36m30\u001b[0m\u001b[0;34m,\u001b[0m \u001b[0mbatch_size\u001b[0m\u001b[0;34m=\u001b[0m\u001b[0;36m20\u001b[0m\u001b[0;34m,\u001b[0m \u001b[0mverbose\u001b[0m \u001b[0;34m=\u001b[0m \u001b[0;36m1\u001b[0m\u001b[0;34m)\u001b[0m\u001b[0;34m\u001b[0m\u001b[0;34m\u001b[0m\u001b[0m\n\u001b[0m",
      "\u001b[0;32m/Library/Frameworks/Python.framework/Versions/3.9/lib/python3.9/site-packages/keras/engine/training.py\u001b[0m in \u001b[0;36mfit\u001b[0;34m(self, x, y, batch_size, epochs, verbose, callbacks, validation_split, validation_data, shuffle, class_weight, sample_weight, initial_epoch, steps_per_epoch, validation_steps, validation_batch_size, validation_freq, max_queue_size, workers, use_multiprocessing)\u001b[0m\n\u001b[1;32m   1182\u001b[0m                 _r=1):\n\u001b[1;32m   1183\u001b[0m               \u001b[0mcallbacks\u001b[0m\u001b[0;34m.\u001b[0m\u001b[0mon_train_batch_begin\u001b[0m\u001b[0;34m(\u001b[0m\u001b[0mstep\u001b[0m\u001b[0;34m)\u001b[0m\u001b[0;34m\u001b[0m\u001b[0;34m\u001b[0m\u001b[0m\n\u001b[0;32m-> 1184\u001b[0;31m               \u001b[0mtmp_logs\u001b[0m \u001b[0;34m=\u001b[0m \u001b[0mself\u001b[0m\u001b[0;34m.\u001b[0m\u001b[0mtrain_function\u001b[0m\u001b[0;34m(\u001b[0m\u001b[0miterator\u001b[0m\u001b[0;34m)\u001b[0m\u001b[0;34m\u001b[0m\u001b[0;34m\u001b[0m\u001b[0m\n\u001b[0m\u001b[1;32m   1185\u001b[0m               \u001b[0;32mif\u001b[0m \u001b[0mdata_handler\u001b[0m\u001b[0;34m.\u001b[0m\u001b[0mshould_sync\u001b[0m\u001b[0;34m:\u001b[0m\u001b[0;34m\u001b[0m\u001b[0;34m\u001b[0m\u001b[0m\n\u001b[1;32m   1186\u001b[0m                 \u001b[0mcontext\u001b[0m\u001b[0;34m.\u001b[0m\u001b[0masync_wait\u001b[0m\u001b[0;34m(\u001b[0m\u001b[0;34m)\u001b[0m\u001b[0;34m\u001b[0m\u001b[0;34m\u001b[0m\u001b[0m\n",
      "\u001b[0;32m/Library/Frameworks/Python.framework/Versions/3.9/lib/python3.9/site-packages/tensorflow/python/eager/def_function.py\u001b[0m in \u001b[0;36m__call__\u001b[0;34m(self, *args, **kwds)\u001b[0m\n\u001b[1;32m    883\u001b[0m \u001b[0;34m\u001b[0m\u001b[0m\n\u001b[1;32m    884\u001b[0m       \u001b[0;32mwith\u001b[0m \u001b[0mOptionalXlaContext\u001b[0m\u001b[0;34m(\u001b[0m\u001b[0mself\u001b[0m\u001b[0;34m.\u001b[0m\u001b[0m_jit_compile\u001b[0m\u001b[0;34m)\u001b[0m\u001b[0;34m:\u001b[0m\u001b[0;34m\u001b[0m\u001b[0;34m\u001b[0m\u001b[0m\n\u001b[0;32m--> 885\u001b[0;31m         \u001b[0mresult\u001b[0m \u001b[0;34m=\u001b[0m \u001b[0mself\u001b[0m\u001b[0;34m.\u001b[0m\u001b[0m_call\u001b[0m\u001b[0;34m(\u001b[0m\u001b[0;34m*\u001b[0m\u001b[0margs\u001b[0m\u001b[0;34m,\u001b[0m \u001b[0;34m**\u001b[0m\u001b[0mkwds\u001b[0m\u001b[0;34m)\u001b[0m\u001b[0;34m\u001b[0m\u001b[0;34m\u001b[0m\u001b[0m\n\u001b[0m\u001b[1;32m    886\u001b[0m \u001b[0;34m\u001b[0m\u001b[0m\n\u001b[1;32m    887\u001b[0m       \u001b[0mnew_tracing_count\u001b[0m \u001b[0;34m=\u001b[0m \u001b[0mself\u001b[0m\u001b[0;34m.\u001b[0m\u001b[0mexperimental_get_tracing_count\u001b[0m\u001b[0;34m(\u001b[0m\u001b[0;34m)\u001b[0m\u001b[0;34m\u001b[0m\u001b[0;34m\u001b[0m\u001b[0m\n",
      "\u001b[0;32m/Library/Frameworks/Python.framework/Versions/3.9/lib/python3.9/site-packages/tensorflow/python/eager/def_function.py\u001b[0m in \u001b[0;36m_call\u001b[0;34m(self, *args, **kwds)\u001b[0m\n\u001b[1;32m    915\u001b[0m       \u001b[0;31m# In this case we have created variables on the first call, so we run the\u001b[0m\u001b[0;34m\u001b[0m\u001b[0;34m\u001b[0m\u001b[0m\n\u001b[1;32m    916\u001b[0m       \u001b[0;31m# defunned version which is guaranteed to never create variables.\u001b[0m\u001b[0;34m\u001b[0m\u001b[0;34m\u001b[0m\u001b[0m\n\u001b[0;32m--> 917\u001b[0;31m       \u001b[0;32mreturn\u001b[0m \u001b[0mself\u001b[0m\u001b[0;34m.\u001b[0m\u001b[0m_stateless_fn\u001b[0m\u001b[0;34m(\u001b[0m\u001b[0;34m*\u001b[0m\u001b[0margs\u001b[0m\u001b[0;34m,\u001b[0m \u001b[0;34m**\u001b[0m\u001b[0mkwds\u001b[0m\u001b[0;34m)\u001b[0m  \u001b[0;31m# pylint: disable=not-callable\u001b[0m\u001b[0;34m\u001b[0m\u001b[0;34m\u001b[0m\u001b[0m\n\u001b[0m\u001b[1;32m    918\u001b[0m     \u001b[0;32melif\u001b[0m \u001b[0mself\u001b[0m\u001b[0;34m.\u001b[0m\u001b[0m_stateful_fn\u001b[0m \u001b[0;32mis\u001b[0m \u001b[0;32mnot\u001b[0m \u001b[0;32mNone\u001b[0m\u001b[0;34m:\u001b[0m\u001b[0;34m\u001b[0m\u001b[0;34m\u001b[0m\u001b[0m\n\u001b[1;32m    919\u001b[0m       \u001b[0;31m# Release the lock early so that multiple threads can perform the call\u001b[0m\u001b[0;34m\u001b[0m\u001b[0;34m\u001b[0m\u001b[0m\n",
      "\u001b[0;32m/Library/Frameworks/Python.framework/Versions/3.9/lib/python3.9/site-packages/tensorflow/python/eager/function.py\u001b[0m in \u001b[0;36m__call__\u001b[0;34m(self, *args, **kwargs)\u001b[0m\n\u001b[1;32m   3037\u001b[0m       (graph_function,\n\u001b[1;32m   3038\u001b[0m        filtered_flat_args) = self._maybe_define_function(args, kwargs)\n\u001b[0;32m-> 3039\u001b[0;31m     return graph_function._call_flat(\n\u001b[0m\u001b[1;32m   3040\u001b[0m         filtered_flat_args, captured_inputs=graph_function.captured_inputs)  # pylint: disable=protected-access\n\u001b[1;32m   3041\u001b[0m \u001b[0;34m\u001b[0m\u001b[0m\n",
      "\u001b[0;32m/Library/Frameworks/Python.framework/Versions/3.9/lib/python3.9/site-packages/tensorflow/python/eager/function.py\u001b[0m in \u001b[0;36m_call_flat\u001b[0;34m(self, args, captured_inputs, cancellation_manager)\u001b[0m\n\u001b[1;32m   1961\u001b[0m         and executing_eagerly):\n\u001b[1;32m   1962\u001b[0m       \u001b[0;31m# No tape is watching; skip to running the function.\u001b[0m\u001b[0;34m\u001b[0m\u001b[0;34m\u001b[0m\u001b[0m\n\u001b[0;32m-> 1963\u001b[0;31m       return self._build_call_outputs(self._inference_function.call(\n\u001b[0m\u001b[1;32m   1964\u001b[0m           ctx, args, cancellation_manager=cancellation_manager))\n\u001b[1;32m   1965\u001b[0m     forward_backward = self._select_forward_and_backward_functions(\n",
      "\u001b[0;32m/Library/Frameworks/Python.framework/Versions/3.9/lib/python3.9/site-packages/tensorflow/python/eager/function.py\u001b[0m in \u001b[0;36mcall\u001b[0;34m(self, ctx, args, cancellation_manager)\u001b[0m\n\u001b[1;32m    589\u001b[0m       \u001b[0;32mwith\u001b[0m \u001b[0m_InterpolateFunctionError\u001b[0m\u001b[0;34m(\u001b[0m\u001b[0mself\u001b[0m\u001b[0;34m)\u001b[0m\u001b[0;34m:\u001b[0m\u001b[0;34m\u001b[0m\u001b[0;34m\u001b[0m\u001b[0m\n\u001b[1;32m    590\u001b[0m         \u001b[0;32mif\u001b[0m \u001b[0mcancellation_manager\u001b[0m \u001b[0;32mis\u001b[0m \u001b[0;32mNone\u001b[0m\u001b[0;34m:\u001b[0m\u001b[0;34m\u001b[0m\u001b[0;34m\u001b[0m\u001b[0m\n\u001b[0;32m--> 591\u001b[0;31m           outputs = execute.execute(\n\u001b[0m\u001b[1;32m    592\u001b[0m               \u001b[0mstr\u001b[0m\u001b[0;34m(\u001b[0m\u001b[0mself\u001b[0m\u001b[0;34m.\u001b[0m\u001b[0msignature\u001b[0m\u001b[0;34m.\u001b[0m\u001b[0mname\u001b[0m\u001b[0;34m)\u001b[0m\u001b[0;34m,\u001b[0m\u001b[0;34m\u001b[0m\u001b[0;34m\u001b[0m\u001b[0m\n\u001b[1;32m    593\u001b[0m               \u001b[0mnum_outputs\u001b[0m\u001b[0;34m=\u001b[0m\u001b[0mself\u001b[0m\u001b[0;34m.\u001b[0m\u001b[0m_num_outputs\u001b[0m\u001b[0;34m,\u001b[0m\u001b[0;34m\u001b[0m\u001b[0;34m\u001b[0m\u001b[0m\n",
      "\u001b[0;32m/Library/Frameworks/Python.framework/Versions/3.9/lib/python3.9/site-packages/tensorflow/python/eager/execute.py\u001b[0m in \u001b[0;36mquick_execute\u001b[0;34m(op_name, num_outputs, inputs, attrs, ctx, name)\u001b[0m\n\u001b[1;32m     57\u001b[0m   \u001b[0;32mtry\u001b[0m\u001b[0;34m:\u001b[0m\u001b[0;34m\u001b[0m\u001b[0;34m\u001b[0m\u001b[0m\n\u001b[1;32m     58\u001b[0m     \u001b[0mctx\u001b[0m\u001b[0;34m.\u001b[0m\u001b[0mensure_initialized\u001b[0m\u001b[0;34m(\u001b[0m\u001b[0;34m)\u001b[0m\u001b[0;34m\u001b[0m\u001b[0;34m\u001b[0m\u001b[0m\n\u001b[0;32m---> 59\u001b[0;31m     tensors = pywrap_tfe.TFE_Py_Execute(ctx._handle, device_name, op_name,\n\u001b[0m\u001b[1;32m     60\u001b[0m                                         inputs, attrs, num_outputs)\n\u001b[1;32m     61\u001b[0m   \u001b[0;32mexcept\u001b[0m \u001b[0mcore\u001b[0m\u001b[0;34m.\u001b[0m\u001b[0m_NotOkStatusException\u001b[0m \u001b[0;32mas\u001b[0m \u001b[0me\u001b[0m\u001b[0;34m:\u001b[0m\u001b[0;34m\u001b[0m\u001b[0;34m\u001b[0m\u001b[0m\n",
      "\u001b[0;31mKeyboardInterrupt\u001b[0m: "
     ]
    }
   ],
   "source": [
    "model= newModel()\n",
    "model.fit(trainX, trainY, validation_data = (testX, testY), epochs = 30, batch_size=20, verbose = 1)"
   ]
  },
  {
   "cell_type": "code",
   "execution_count": 13,
   "metadata": {},
   "outputs": [],
   "source": [
    "#Concatenate positive and negative samples\n",
    "trainFull = pd.read_csv(\"PreprocessedData/trainFull.csv\")\n",
    "testFull = pd.read_csv(\"PreprocessedData/testFull.csv\")\n",
    "\n",
    "trainFull = trainFull.sample(frac = 1)\n",
    "testFull = testFull.sample(frac = 1)\n",
    "    \n",
    "#Reduce features and extract labels\n",
    "trainX2 = trainFull.iloc[:,:-1]\n",
    "trainY2 = trainFull.iloc[:,-1]\n",
    "testX2 = testFull.iloc[:,:-1]\n",
    "testY2 = testFull.iloc[:,-1]\n",
    "\n",
    "#trainX = normalize(trainX)\n",
    "#testX = normalize(testX)\n",
    "\n",
    "#Reshape data to 3D for CNN\n",
    "\n",
    "trainX2 = trainX2.to_numpy()[..., None]\n",
    "trainY2 = trainY2.to_numpy()[..., None]\n",
    "testX2 = testX2.to_numpy()[..., None]\n",
    "testY2 = testY2.to_numpy()[..., None]\n"
   ]
  },
  {
   "cell_type": "code",
   "execution_count": 14,
   "metadata": {},
   "outputs": [],
   "source": [
    "def newModel(numConvFilters = 242, dropout = .215, numDenseNodes = 190):\n",
    "    #Create new sequential model\n",
    "    model = Sequential()\n",
    "\n",
    "    #Add 1D Convolutional layers\n",
    "    model.add(BatchNormalization())\n",
    "    model.add((Conv1D(filters=32, kernel_size=3, activation='relu')))\n",
    "    model.add((Conv1D(filters=numConvFilters, kernel_size=3, activation='relu')))\n",
    "    #Add Max Pooling layer\n",
    "    model.add((MaxPooling1D(pool_size=2)))\n",
    "    #Apply dropout\n",
    "    model.add(Dropout(dropout))\n",
    "    #Flatten model\n",
    "    model.add(Flatten())\n",
    "    #Add fully connected dense layer\n",
    "    model.add(Dense(numDenseNodes, activation='sigmoid'))\n",
    "    #Add output node\n",
    "    model.add(Dense(1, activation='sigmoid'))\n",
    "    \n",
    "    #Define optimizer\n",
    "    adam = tf.optimizers.Adam(learning_rate=0.001, beta_1=0.9, beta_2=0.999, epsilon=None, decay=0.0)\n",
    "    #Compile model\n",
    "    model.compile(optimizer=adam, loss='binary_crossentropy', metrics=[tf.keras.metrics.AUC(curve='PR'),   \n",
    "                                                                       tf.keras.metrics.PrecisionAtRecall(0.8)])\n",
    "    return model"
   ]
  },
  {
   "cell_type": "code",
   "execution_count": 15,
   "metadata": {},
   "outputs": [
    {
     "name": "stdout",
     "output_type": "stream",
     "text": [
      "Epoch 1/100\n",
      "758/758 [==============================] - 21s 26ms/step - loss: 0.6744 - auc_1: 0.5905 - precision_at_recall_1: 0.5453\n",
      "Epoch 2/100\n",
      "758/758 [==============================] - 19s 25ms/step - loss: 0.6534 - auc_1: 0.6406 - precision_at_recall_1: 0.5726\n",
      "Epoch 3/100\n",
      "758/758 [==============================] - 19s 25ms/step - loss: 0.6452 - auc_1: 0.6515 - precision_at_recall_1: 0.5785\n",
      "Epoch 4/100\n",
      "758/758 [==============================] - 21s 27ms/step - loss: 0.6411 - auc_1: 0.6582 - precision_at_recall_1: 0.5892\n",
      "Epoch 5/100\n",
      "758/758 [==============================] - 17s 22ms/step - loss: 0.6340 - auc_1: 0.6726 - precision_at_recall_1: 0.5930\n",
      "Epoch 6/100\n",
      "758/758 [==============================] - 16s 21ms/step - loss: 0.6241 - auc_1: 0.6892 - precision_at_recall_1: 0.6026\n",
      "Epoch 7/100\n",
      "758/758 [==============================] - 15s 20ms/step - loss: 0.6148 - auc_1: 0.6981 - precision_at_recall_1: 0.6175\n",
      "Epoch 8/100\n",
      "758/758 [==============================] - 22s 29ms/step - loss: 0.6121 - auc_1: 0.7013 - precision_at_recall_1: 0.6153\n",
      "Epoch 9/100\n",
      "758/758 [==============================] - 20s 26ms/step - loss: 0.6072 - auc_1: 0.7077 - precision_at_recall_1: 0.6241\n",
      "Epoch 10/100\n",
      "758/758 [==============================] - 21s 27ms/step - loss: 0.6011 - auc_1: 0.7170 - precision_at_recall_1: 0.6272\n",
      "Epoch 11/100\n",
      "758/758 [==============================] - 18s 23ms/step - loss: 0.5980 - auc_1: 0.7178 - precision_at_recall_1: 0.6338\n",
      "Epoch 12/100\n",
      "758/758 [==============================] - 18s 23ms/step - loss: 0.5940 - auc_1: 0.7235 - precision_at_recall_1: 0.6379\n",
      "Epoch 13/100\n",
      "758/758 [==============================] - 21s 28ms/step - loss: 0.5926 - auc_1: 0.7259 - precision_at_recall_1: 0.6399\n",
      "Epoch 14/100\n",
      "758/758 [==============================] - 16s 20ms/step - loss: 0.5871 - auc_1: 0.7315 - precision_at_recall_1: 0.6426\n",
      "Epoch 15/100\n",
      "758/758 [==============================] - 17s 22ms/step - loss: 0.5862 - auc_1: 0.7322 - precision_at_recall_1: 0.6418\n",
      "Epoch 16/100\n",
      "758/758 [==============================] - 15s 19ms/step - loss: 0.5853 - auc_1: 0.7337 - precision_at_recall_1: 0.6455\n",
      "Epoch 17/100\n",
      "758/758 [==============================] - 14s 19ms/step - loss: 0.5790 - auc_1: 0.7419 - precision_at_recall_1: 0.6488\n",
      "Epoch 18/100\n",
      "758/758 [==============================] - 14s 19ms/step - loss: 0.5781 - auc_1: 0.7419 - precision_at_recall_1: 0.6499\n",
      "Epoch 19/100\n",
      "758/758 [==============================] - 15s 20ms/step - loss: 0.5739 - auc_1: 0.7463 - precision_at_recall_1: 0.6589\n",
      "Epoch 20/100\n",
      "758/758 [==============================] - 16s 21ms/step - loss: 0.5692 - auc_1: 0.7521 - precision_at_recall_1: 0.6596\n",
      "Epoch 21/100\n",
      "758/758 [==============================] - 14s 19ms/step - loss: 0.5694 - auc_1: 0.7544 - precision_at_recall_1: 0.6616\n",
      "Epoch 22/100\n",
      "758/758 [==============================] - 15s 19ms/step - loss: 0.5679 - auc_1: 0.7533 - precision_at_recall_1: 0.6583\n",
      "Epoch 23/100\n",
      "758/758 [==============================] - 14s 19ms/step - loss: 0.5626 - auc_1: 0.7612 - precision_at_recall_1: 0.6638\n",
      "Epoch 24/100\n",
      "758/758 [==============================] - 14s 19ms/step - loss: 0.5553 - auc_1: 0.7726 - precision_at_recall_1: 0.6728\n",
      "Epoch 25/100\n",
      "758/758 [==============================] - 14s 19ms/step - loss: 0.5518 - auc_1: 0.7752 - precision_at_recall_1: 0.6743\n",
      "Epoch 26/100\n",
      "758/758 [==============================] - 18s 24ms/step - loss: 0.5475 - auc_1: 0.7812 - precision_at_recall_1: 0.6746\n",
      "Epoch 27/100\n",
      "758/758 [==============================] - 22s 29ms/step - loss: 0.5467 - auc_1: 0.7830 - precision_at_recall_1: 0.6733\n",
      "Epoch 28/100\n",
      "758/758 [==============================] - 21s 28ms/step - loss: 0.5389 - auc_1: 0.7918 - precision_at_recall_1: 0.6865\n",
      "Epoch 29/100\n",
      "758/758 [==============================] - 18s 24ms/step - loss: 0.5327 - auc_1: 0.8005 - precision_at_recall_1: 0.6879\n",
      "Epoch 30/100\n",
      "758/758 [==============================] - 16s 21ms/step - loss: 0.5300 - auc_1: 0.8040 - precision_at_recall_1: 0.6906\n",
      "Epoch 31/100\n",
      "758/758 [==============================] - 17s 22ms/step - loss: 0.5213 - auc_1: 0.8118 - precision_at_recall_1: 0.6976\n",
      "Epoch 32/100\n",
      "758/758 [==============================] - 16s 21ms/step - loss: 0.5189 - auc_1: 0.8144 - precision_at_recall_1: 0.7003\n",
      "Epoch 33/100\n",
      "758/758 [==============================] - 16s 21ms/step - loss: 0.5115 - auc_1: 0.8222 - precision_at_recall_1: 0.7054\n",
      "Epoch 34/100\n",
      "758/758 [==============================] - 16s 21ms/step - loss: 0.5043 - auc_1: 0.8289 - precision_at_recall_1: 0.7122\n",
      "Epoch 35/100\n",
      "758/758 [==============================] - 17s 22ms/step - loss: 0.5033 - auc_1: 0.8288 - precision_at_recall_1: 0.7131\n",
      "Epoch 36/100\n",
      "758/758 [==============================] - 21s 28ms/step - loss: 0.4937 - auc_1: 0.8367 - precision_at_recall_1: 0.7284\n",
      "Epoch 37/100\n",
      "758/758 [==============================] - 19s 25ms/step - loss: 0.4886 - auc_1: 0.8425 - precision_at_recall_1: 0.7297\n",
      "Epoch 38/100\n",
      "758/758 [==============================] - 17s 22ms/step - loss: 0.4810 - auc_1: 0.8453 - precision_at_recall_1: 0.7371\n",
      "Epoch 39/100\n",
      "758/758 [==============================] - 18s 24ms/step - loss: 0.4820 - auc_1: 0.8459 - precision_at_recall_1: 0.7380\n",
      "Epoch 40/100\n",
      "758/758 [==============================] - 17s 22ms/step - loss: 0.4724 - auc_1: 0.8518 - precision_at_recall_1: 0.7470\n",
      "Epoch 41/100\n",
      "758/758 [==============================] - 18s 23ms/step - loss: 0.4650 - auc_1: 0.8579 - precision_at_recall_1: 0.7460\n",
      "Epoch 42/100\n",
      "758/758 [==============================] - 17s 22ms/step - loss: 0.4619 - auc_1: 0.8602 - precision_at_recall_1: 0.7542\n",
      "Epoch 43/100\n",
      "758/758 [==============================] - 16s 22ms/step - loss: 0.4556 - auc_1: 0.8647 - precision_at_recall_1: 0.7537\n",
      "Epoch 44/100\n",
      "758/758 [==============================] - 18s 24ms/step - loss: 0.4592 - auc_1: 0.8617 - precision_at_recall_1: 0.7550\n",
      "Epoch 45/100\n",
      "758/758 [==============================] - 18s 24ms/step - loss: 0.4455 - auc_1: 0.8725 - precision_at_recall_1: 0.7695\n",
      "Epoch 46/100\n",
      "758/758 [==============================] - 17s 23ms/step - loss: 0.4474 - auc_1: 0.8704 - precision_at_recall_1: 0.7629\n",
      "Epoch 47/100\n",
      "758/758 [==============================] - 21s 27ms/step - loss: 0.4406 - auc_1: 0.8737 - precision_at_recall_1: 0.7651\n",
      "Epoch 48/100\n",
      "758/758 [==============================] - 17s 22ms/step - loss: 0.4355 - auc_1: 0.8767 - precision_at_recall_1: 0.7777\n",
      "Epoch 49/100\n",
      "758/758 [==============================] - 16s 21ms/step - loss: 0.4324 - auc_1: 0.8800 - precision_at_recall_1: 0.7785\n",
      "Epoch 50/100\n",
      "758/758 [==============================] - 19s 26ms/step - loss: 0.4269 - auc_1: 0.8825 - precision_at_recall_1: 0.7820\n",
      "Epoch 51/100\n",
      "758/758 [==============================] - 24s 32ms/step - loss: 0.4275 - auc_1: 0.8831 - precision_at_recall_1: 0.7825\n",
      "Epoch 52/100\n",
      "758/758 [==============================] - 23s 30ms/step - loss: 0.4228 - auc_1: 0.8847 - precision_at_recall_1: 0.7890\n",
      "Epoch 53/100\n",
      "758/758 [==============================] - 22s 29ms/step - loss: 0.4150 - auc_1: 0.8901 - precision_at_recall_1: 0.7937\n",
      "Epoch 54/100\n",
      "758/758 [==============================] - 17s 22ms/step - loss: 0.4200 - auc_1: 0.8875 - precision_at_recall_1: 0.7873\n",
      "Epoch 55/100\n",
      "758/758 [==============================] - 20s 26ms/step - loss: 0.4155 - auc_1: 0.8898 - precision_at_recall_1: 0.7936\n",
      "Epoch 56/100\n",
      "758/758 [==============================] - 19s 26ms/step - loss: 0.4087 - auc_1: 0.8941 - precision_at_recall_1: 0.8036\n",
      "Epoch 57/100\n",
      "758/758 [==============================] - 16s 22ms/step - loss: 0.4103 - auc_1: 0.8934 - precision_at_recall_1: 0.7962\n",
      "Epoch 58/100\n",
      "758/758 [==============================] - 16s 21ms/step - loss: 0.4022 - auc_1: 0.8971 - precision_at_recall_1: 0.8065\n",
      "Epoch 59/100\n",
      "758/758 [==============================] - 17s 23ms/step - loss: 0.3994 - auc_1: 0.8985 - precision_at_recall_1: 0.8131\n",
      "Epoch 60/100\n",
      "758/758 [==============================] - 23s 31ms/step - loss: 0.3972 - auc_1: 0.8996 - precision_at_recall_1: 0.8105\n",
      "Epoch 61/100\n",
      "758/758 [==============================] - 17s 22ms/step - loss: 0.3929 - auc_1: 0.9021 - precision_at_recall_1: 0.8152\n",
      "Epoch 62/100\n"
     ]
    },
    {
     "name": "stdout",
     "output_type": "stream",
     "text": [
      "758/758 [==============================] - 19s 25ms/step - loss: 0.3920 - auc_1: 0.9029 - precision_at_recall_1: 0.8169\n",
      "Epoch 63/100\n",
      "758/758 [==============================] - 18s 24ms/step - loss: 0.3923 - auc_1: 0.9026 - precision_at_recall_1: 0.8144\n",
      "Epoch 64/100\n",
      "758/758 [==============================] - 16s 21ms/step - loss: 0.3817 - auc_1: 0.9080 - precision_at_recall_1: 0.8246\n",
      "Epoch 65/100\n",
      "758/758 [==============================] - 15s 20ms/step - loss: 0.3832 - auc_1: 0.9074 - precision_at_recall_1: 0.8202\n",
      "Epoch 66/100\n",
      "758/758 [==============================] - 15s 19ms/step - loss: 0.3850 - auc_1: 0.9060 - precision_at_recall_1: 0.8205\n",
      "Epoch 67/100\n",
      "758/758 [==============================] - 16s 21ms/step - loss: 0.3820 - auc_1: 0.9085 - precision_at_recall_1: 0.8228\n",
      "Epoch 68/100\n",
      "758/758 [==============================] - 16s 21ms/step - loss: 0.3789 - auc_1: 0.9094 - precision_at_recall_1: 0.8239\n",
      "Epoch 69/100\n",
      "758/758 [==============================] - 16s 22ms/step - loss: 0.3723 - auc_1: 0.9118 - precision_at_recall_1: 0.8306\n",
      "Epoch 70/100\n",
      "758/758 [==============================] - 15s 19ms/step - loss: 0.3740 - auc_1: 0.9111 - precision_at_recall_1: 0.8350\n",
      "Epoch 71/100\n",
      "758/758 [==============================] - 15s 20ms/step - loss: 0.3725 - auc_1: 0.9130 - precision_at_recall_1: 0.8330\n",
      "Epoch 72/100\n",
      "758/758 [==============================] - 16s 21ms/step - loss: 0.3656 - auc_1: 0.9164 - precision_at_recall_1: 0.8368\n",
      "Epoch 73/100\n",
      "758/758 [==============================] - 15s 20ms/step - loss: 0.3679 - auc_1: 0.9143 - precision_at_recall_1: 0.8349\n",
      "Epoch 74/100\n",
      "758/758 [==============================] - 16s 21ms/step - loss: 0.3633 - auc_1: 0.9181 - precision_at_recall_1: 0.8445\n",
      "Epoch 75/100\n",
      "758/758 [==============================] - 18s 24ms/step - loss: 0.3657 - auc_1: 0.9162 - precision_at_recall_1: 0.8426\n",
      "Epoch 76/100\n",
      "758/758 [==============================] - 16s 21ms/step - loss: 0.3546 - auc_1: 0.9213 - precision_at_recall_1: 0.8478\n",
      "Epoch 77/100\n",
      "758/758 [==============================] - 16s 22ms/step - loss: 0.3565 - auc_1: 0.9208 - precision_at_recall_1: 0.8489\n",
      "Epoch 78/100\n",
      "758/758 [==============================] - 16s 22ms/step - loss: 0.3560 - auc_1: 0.9202 - precision_at_recall_1: 0.8463\n",
      "Epoch 79/100\n",
      "758/758 [==============================] - 16s 21ms/step - loss: 0.3534 - auc_1: 0.9224 - precision_at_recall_1: 0.8502\n",
      "Epoch 80/100\n",
      "758/758 [==============================] - 16s 22ms/step - loss: 0.3494 - auc_1: 0.9243 - precision_at_recall_1: 0.8570\n",
      "Epoch 81/100\n",
      "758/758 [==============================] - 17s 23ms/step - loss: 0.3480 - auc_1: 0.9251 - precision_at_recall_1: 0.8556\n",
      "Epoch 82/100\n",
      "758/758 [==============================] - 19s 24ms/step - loss: 0.3467 - auc_1: 0.9256 - precision_at_recall_1: 0.8592\n",
      "Epoch 83/100\n",
      "758/758 [==============================] - 15s 20ms/step - loss: 0.3438 - auc_1: 0.9266 - precision_at_recall_1: 0.8571\n",
      "Epoch 84/100\n",
      "758/758 [==============================] - 16s 20ms/step - loss: 0.3384 - auc_1: 0.9288 - precision_at_recall_1: 0.8595\n",
      "Epoch 85/100\n",
      "758/758 [==============================] - 17s 23ms/step - loss: 0.3381 - auc_1: 0.9299 - precision_at_recall_1: 0.8628\n",
      "Epoch 86/100\n",
      "758/758 [==============================] - 17s 23ms/step - loss: 0.3336 - auc_1: 0.9311 - precision_at_recall_1: 0.8713\n",
      "Epoch 87/100\n",
      "758/758 [==============================] - 17s 22ms/step - loss: 0.3385 - auc_1: 0.9297 - precision_at_recall_1: 0.8662\n",
      "Epoch 88/100\n",
      "758/758 [==============================] - 17s 22ms/step - loss: 0.3308 - auc_1: 0.9327 - precision_at_recall_1: 0.8695\n",
      "Epoch 89/100\n",
      "758/758 [==============================] - 17s 22ms/step - loss: 0.3320 - auc_1: 0.9318 - precision_at_recall_1: 0.8653\n",
      "Epoch 90/100\n",
      "758/758 [==============================] - 17s 23ms/step - loss: 0.3289 - auc_1: 0.9329 - precision_at_recall_1: 0.8724\n",
      "Epoch 91/100\n",
      "758/758 [==============================] - 17s 23ms/step - loss: 0.3247 - auc_1: 0.9351 - precision_at_recall_1: 0.8744\n",
      "Epoch 92/100\n",
      "758/758 [==============================] - 17s 23ms/step - loss: 0.3254 - auc_1: 0.9341 - precision_at_recall_1: 0.8714\n",
      "Epoch 93/100\n",
      "758/758 [==============================] - 17s 23ms/step - loss: 0.3228 - auc_1: 0.9358 - precision_at_recall_1: 0.8753\n",
      "Epoch 94/100\n",
      "758/758 [==============================] - 17s 22ms/step - loss: 0.3190 - auc_1: 0.9372 - precision_at_recall_1: 0.8815 2s - loss: 0.3180\n",
      "Epoch 95/100\n",
      "758/758 [==============================] - 17s 23ms/step - loss: 0.3213 - auc_1: 0.9373 - precision_at_recall_1: 0.8794\n",
      "Epoch 96/100\n",
      "758/758 [==============================] - 17s 23ms/step - loss: 0.3182 - auc_1: 0.9384 - precision_at_recall_1: 0.8831\n",
      "Epoch 97/100\n",
      "758/758 [==============================] - 17s 23ms/step - loss: 0.3183 - auc_1: 0.9382 - precision_at_recall_1: 0.8802\n",
      "Epoch 98/100\n",
      "758/758 [==============================] - 16s 21ms/step - loss: 0.3157 - auc_1: 0.9386 - precision_at_recall_1: 0.8852\n",
      "Epoch 99/100\n",
      "758/758 [==============================] - 19s 25ms/step - loss: 0.3132 - auc_1: 0.9408 - precision_at_recall_1: 0.8890\n",
      "Epoch 100/100\n",
      "758/758 [==============================] - 16s 21ms/step - loss: 0.3123 - auc_1: 0.9402 - precision_at_recall_1: 0.8860\n"
     ]
    },
    {
     "data": {
      "text/plain": [
       "<keras.callbacks.History at 0x7fbd43d45d60>"
      ]
     },
     "execution_count": 15,
     "metadata": {},
     "output_type": "execute_result"
    }
   ],
   "source": [
    "model1 = newModel()\n",
    "model1.fit(trainX2, trainY2, epochs = 100, batch_size=20, verbose = 1)"
   ]
  },
  {
   "cell_type": "code",
   "execution_count": 15,
   "metadata": {},
   "outputs": [
    {
     "name": "stdout",
     "output_type": "stream",
     "text": [
      "Epoch 1/30\n",
      "758/758 [==============================] - 18s 22ms/step - loss: 0.5788 - auc_2: 0.7639 - precision_at_recall_2: 0.6487\n",
      "Epoch 2/30\n",
      "758/758 [==============================] - 21s 28ms/step - loss: 0.5301 - auc_2: 0.8139 - precision_at_recall_2: 0.6933\n",
      "Epoch 3/30\n",
      "758/758 [==============================] - 22s 29ms/step - loss: 0.5109 - auc_2: 0.8306 - precision_at_recall_2: 0.7075\n",
      "Epoch 4/30\n",
      "758/758 [==============================] - 23s 30ms/step - loss: 0.4944 - auc_2: 0.8441 - precision_at_recall_2: 0.7227\n",
      "Epoch 5/30\n",
      "758/758 [==============================] - 19s 24ms/step - loss: 0.4798 - auc_2: 0.8541 - precision_at_recall_2: 0.7373\n",
      "Epoch 6/30\n",
      "758/758 [==============================] - 20s 26ms/step - loss: 0.4658 - auc_2: 0.8637 - precision_at_recall_2: 0.7523\n",
      "Epoch 7/30\n",
      "758/758 [==============================] - 21s 27ms/step - loss: 0.4517 - auc_2: 0.8721 - precision_at_recall_2: 0.7631\n",
      "Epoch 8/30\n",
      "758/758 [==============================] - 20s 27ms/step - loss: 0.4363 - auc_2: 0.8811 - precision_at_recall_2: 0.7748\n",
      "Epoch 9/30\n",
      "758/758 [==============================] - 18s 24ms/step - loss: 0.4182 - auc_2: 0.8917 - precision_at_recall_2: 0.7976\n",
      "Epoch 10/30\n",
      "758/758 [==============================] - 21s 28ms/step - loss: 0.4019 - auc_2: 0.9005 - precision_at_recall_2: 0.8105\n",
      "Epoch 11/30\n",
      "758/758 [==============================] - 18s 23ms/step - loss: 0.3785 - auc_2: 0.9124 - precision_at_recall_2: 0.8352\n",
      "Epoch 12/30\n",
      "758/758 [==============================] - 17s 22ms/step - loss: 0.3595 - auc_2: 0.9221 - precision_at_recall_2: 0.8532\n",
      "Epoch 13/30\n",
      "758/758 [==============================] - 16s 21ms/step - loss: 0.3409 - auc_2: 0.9298 - precision_at_recall_2: 0.8649\n",
      "Epoch 14/30\n",
      "758/758 [==============================] - 16s 21ms/step - loss: 0.3173 - auc_2: 0.9397 - precision_at_recall_2: 0.8858\n",
      "Epoch 15/30\n",
      "758/758 [==============================] - 16s 22ms/step - loss: 0.3063 - auc_2: 0.9444 - precision_at_recall_2: 0.8988\n",
      "Epoch 16/30\n",
      "758/758 [==============================] - 16s 22ms/step - loss: 0.2895 - auc_2: 0.9503 - precision_at_recall_2: 0.9097\n",
      "Epoch 17/30\n",
      "758/758 [==============================] - 19s 25ms/step - loss: 0.2724 - auc_2: 0.9565 - precision_at_recall_2: 0.9265\n",
      "Epoch 18/30\n",
      "758/758 [==============================] - 22s 28ms/step - loss: 0.2546 - auc_2: 0.9630 - precision_at_recall_2: 0.9382 3s - loss: 0.2\n",
      "Epoch 19/30\n",
      "758/758 [==============================] - 22s 29ms/step - loss: 0.2461 - auc_2: 0.9645 - precision_at_recall_2: 0.9438\n",
      "Epoch 20/30\n",
      "758/758 [==============================] - 22s 29ms/step - loss: 0.2338 - auc_2: 0.9687 - precision_at_recall_2: 0.9521\n",
      "Epoch 21/30\n",
      "758/758 [==============================] - 22s 29ms/step - loss: 0.2209 - auc_2: 0.9723 - precision_at_recall_2: 0.9602\n",
      "Epoch 22/30\n",
      "758/758 [==============================] - 17s 23ms/step - loss: 0.2084 - auc_2: 0.9757 - precision_at_recall_2: 0.9679\n",
      "Epoch 23/30\n",
      "758/758 [==============================] - 21s 27ms/step - loss: 0.2044 - auc_2: 0.9763 - precision_at_recall_2: 0.9677\n",
      "Epoch 24/30\n",
      "758/758 [==============================] - 23s 31ms/step - loss: 0.1922 - auc_2: 0.9788 - precision_at_recall_2: 0.9749\n",
      "Epoch 25/30\n",
      "758/758 [==============================] - 18s 24ms/step - loss: 0.1848 - auc_2: 0.9809 - precision_at_recall_2: 0.9786\n",
      "Epoch 26/30\n",
      "758/758 [==============================] - 17s 23ms/step - loss: 0.1790 - auc_2: 0.9822 - precision_at_recall_2: 0.9797\n",
      "Epoch 27/30\n",
      "758/758 [==============================] - 18s 24ms/step - loss: 0.1720 - auc_2: 0.9835 - precision_at_recall_2: 0.9824\n",
      "Epoch 28/30\n",
      "758/758 [==============================] - 22s 28ms/step - loss: 0.1657 - auc_2: 0.9847 - precision_at_recall_2: 0.9850\n",
      "Epoch 29/30\n",
      "758/758 [==============================] - 18s 24ms/step - loss: 0.1569 - auc_2: 0.9863 - precision_at_recall_2: 0.9872\n",
      "Epoch 30/30\n",
      "758/758 [==============================] - 19s 25ms/step - loss: 0.1599 - auc_2: 0.9855 - precision_at_recall_2: 0.9859\n"
     ]
    },
    {
     "data": {
      "text/plain": [
       "<keras.callbacks.History at 0x7fd85aea5910>"
      ]
     },
     "execution_count": 15,
     "metadata": {},
     "output_type": "execute_result"
    }
   ],
   "source": [
    "model2 = newModel()\n",
    "model2.fit(trainX, trainY, epochs = 30, batch_size=20, verbose = 1)"
   ]
  },
  {
   "cell_type": "code",
   "execution_count": 16,
   "metadata": {},
   "outputs": [
    {
     "name": "stdout",
     "output_type": "stream",
     "text": [
      "Standard Scaled\n",
      "Recall at 80% Precision: 0.9050131926121372\n",
      "PR-AUC: 0.9226334498014034\n",
      "[[1611  284]\n",
      " [ 312 1583]]\n"
     ]
    },
    {
     "data": {
      "image/png": "[encoded data removed]",
      "text/plain": [
       "<Figure size 432x288 with 1 Axes>"
      ]
     },
     "metadata": {
      "needs_background": "light"
     },
     "output_type": "display_data"
    }
   ],
   "source": [
    "print(\"Standard Scaled\")\n",
    "modelMetrics(testX, testY, model0)\n",
    "confusionMatrix(model0, testX, testY)\n",
    "PRplot(testX, testY, model0)\n"
   ]
  },
  {
   "cell_type": "code",
   "execution_count": 17,
   "metadata": {},
   "outputs": [
    {
     "name": "stdout",
     "output_type": "stream",
     "text": [
      "Batch Normalized\n",
      "Recall at 80% Precision: 0.883377308707124\n",
      "PR-AUC: 0.9185726899882469\n",
      "[[1538  357]\n",
      " [ 265 1630]]\n"
     ]
    },
    {
     "data": {
      "image/png": "[encoded data removed]",
      "text/plain": [
       "<Figure size 432x288 with 1 Axes>"
      ]
     },
     "metadata": {
      "needs_background": "light"
     },
     "output_type": "display_data"
    }
   ],
   "source": [
    "print(\"Batch Normalized\")\n",
    "modelMetrics(testX2, testY2, model1)\n",
    "confusionMatrix(model1, testX2, testY2)\n",
    "PRplot(testX2, testY2, model1)\n",
    "#run for more epochs"
   ]
  },
  {
   "cell_type": "code",
   "execution_count": 19,
   "metadata": {},
   "outputs": [
    {
     "name": "stdout",
     "output_type": "stream",
     "text": [
      "Batch Normalized and Standard Scaled\n",
      "Recall at 80% Precision: 0.899736147757256\n",
      "PR-AUC: 0.9231188121168559\n",
      "[[1610  285]\n",
      " [ 324 1571]]\n"
     ]
    },
    {
     "data": {
      "image/png": "[encoded data removed]",
      "text/plain": [
       "<Figure size 432x288 with 1 Axes>"
      ]
     },
     "metadata": {
      "needs_background": "light"
     },
     "output_type": "display_data"
    }
   ],
   "source": [
    "print(\"Batch Normalized and Standard Scaled\")\n",
    "modelMetrics(testX, testY, model2)\n",
    "confusionMatrix(model2, testX, testY)\n",
    "PRplot(testX, testY, model2)"
   ]
  },
  {
   "cell_type": "code",
   "execution_count": null,
   "metadata": {},
   "outputs": [],
   "source": []
  }
 ],
 "metadata": {
  "kernelspec": {
   "display_name": "Python 3 (ipykernel)",
   "language": "python",
   "name": "python3"
  },
  "language_info": {
   "codemirror_mode": {
    "name": "ipython",
    "version": 3
   },
   "file_extension": ".py",
   "mimetype": "text/x-python",
   "name": "python",
   "nbconvert_exporter": "python",
   "pygments_lexer": "ipython3",
   "version": "3.9.7"
  }
 },
 "nbformat": 4,
 "nbformat_minor": 2
}
