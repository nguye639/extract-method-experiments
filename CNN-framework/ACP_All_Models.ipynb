{
  "cells": [
    {
      "cell_type": "code",
      "execution_count": null,
      "metadata": {
        "id": "2jCaWrw6u-WV"
      },
      "outputs": [],
      "source": [
        "#import libraries\n",
        "import pandas as pd\n",
        "import numpy as np\n",
        "import matplotlib.pyplot as plt\n",
        "from sklearn.preprocessing import StandardScaler\n",
        "import tensorflow as tf\n",
        "from keras.models import Sequential\n",
        "from keras.layers import Dropout, LSTM, Flatten, Dense\n",
        "from keras.layers.convolutional import Conv1D, MaxPooling1D\n",
        "from sklearn import metrics\n",
        "from sklearn.metrics import roc_auc_score\n",
        "from sklearn.metrics import precision_recall_curve\n",
        "from sklearn.metrics import auc\n",
        "from sklearn.metrics import confusion_matrix"
      ]
    },
    {
      "cell_type": "markdown",
      "metadata": {
        "id": "SrLeVAK_u-Wa"
      },
      "source": [
        "# Data Input and Model Creation"
      ]
    },
    {
      "cell_type": "code",
      "source": [
        "from google.colab import drive\n",
        "drive.mount('/content/drive')"
      ],
      "metadata": {
        "colab": {
          "base_uri": "https://localhost:8080/"
        },
        "id": "AIwiX0R1vjvu",
        "outputId": "0b4911e6-cbfa-4747-dc9e-b38686aca327"
      },
      "execution_count": null,
      "outputs": [
        {
          "output_type": "stream",
          "name": "stdout",
          "text": [
            "Drive already mounted at /content/drive; to attempt to forcibly remount, call drive.mount(\"/content/drive\", force_remount=True).\n"
          ]
        }
      ]
    },
    {
      "cell_type": "code",
      "execution_count": null,
      "metadata": {
        "id": "xM0WHIGbu-Wc"
      },
      "outputs": [],
      "source": [
        "#Concatenate positive and negative samples\n",
        "trainFull = pd.read_csv(\"drive/MyDrive/PreprocessedData/trainFull.csv\")\n",
        "testFull = pd.read_csv(\"drive/MyDrive/PreprocessedData/testFull.csv\")\n",
        "    \n",
        "#Randomize samples\n",
        "trainFull = trainFull.sample(len(trainFull))\n",
        "testFull = testFull.sample(len(testFull))\n",
        "\n",
        "#Randomize samples\n",
        "trainFull = trainFull.sample(len(trainFull))\n",
        "testFull = testFull.sample(len(testFull))\n"
      ]
    },
    {
      "cell_type": "code",
      "source": [
        "#Reduce features and extract labels\n",
        "trainX = trainFull.iloc[:,:-2]\n",
        "trainY = trainFull.iloc[:,-1]\n",
        "testX = testFull.iloc[:,:-2]\n",
        "testY = testFull.iloc[:,-1]\n",
        "#Standard scale training data\n",
        "trainScaler = StandardScaler()\n",
        "trainScaler.fit(trainX)\n",
        "trainX = trainScaler.transform(trainX)\n",
        "\n",
        "#Export standard scale\n",
        "#dump(trainScaler, 'standardScaler.bin', compress=True)\n",
        "\n",
        "#Standard scale testing data\n",
        "testScaler = StandardScaler()\n",
        "testScaler.fit(testX)\n",
        "testX = testScaler.transform(testX)\n",
        "\n",
        "#Reshape data to 3D for CNN\n",
        "trainX = trainX[..., None]\n",
        "trainY = trainY[..., None]\n",
        "testX = testX[..., None]\n",
        "testY = testY[..., None]"
      ],
      "metadata": {
        "colab": {
          "base_uri": "https://localhost:8080/"
        },
        "id": "eyh48C1xWQIU",
        "outputId": "215a5346-b926-4f93-aac5-7a182f905320"
      },
      "execution_count": null,
      "outputs": [
        {
          "output_type": "stream",
          "name": "stderr",
          "text": [
            "/usr/local/lib/python3.7/dist-packages/ipykernel_launcher.py:21: FutureWarning: Support for multi-dimensional indexing (e.g. `obj[:, None]`) is deprecated and will be removed in a future version.  Convert to a numpy array before indexing instead.\n",
            "/usr/local/lib/python3.7/dist-packages/ipykernel_launcher.py:23: FutureWarning: Support for multi-dimensional indexing (e.g. `obj[:, None]`) is deprecated and will be removed in a future version.  Convert to a numpy array before indexing instead.\n"
          ]
        }
      ]
    },
    {
      "cell_type": "code",
      "execution_count": null,
      "metadata": {
        "id": "c8oFOTrZu-Wf"
      },
      "outputs": [],
      "source": [
        "\"\"\"\n",
        "This method contains the architecture for the CNN used.\n",
        "It uses tensorflow sequential as the basis to crease the model.\n",
        "\n",
        "@param numConvFilters: number of convolutional filters in the 2nd hidden layer. We recommend >32 to upscale.\n",
        "@param dropout: fraction of nodes dropped out of the Max Pooling layer.\n",
        "@param numDenseNodes: number of dense nodes in the feed forward layer.\n",
        "\n",
        "Recommended:\n",
        "numConvFilters = 242\n",
        "dropout = .215\n",
        "numDenseNodes = 190\n",
        "\n",
        "\"\"\"\n",
        "def newModel(numConvFilters = 242, dropout = .215, numDenseNodes = 190):\n",
        "    #Create new sequential model\n",
        "    model = Sequential()\n",
        "\n",
        "    #Add 1D Convolutional layers\n",
        "    model.add((Conv1D(filters=32, kernel_size=3, activation='relu')))\n",
        "    model.add((Conv1D(filters=numConvFilters, kernel_size=3, activation='relu')))\n",
        "    #Add Max Pooling layer\n",
        "    model.add((MaxPooling1D(pool_size=2)))\n",
        "    #Apply dropout\n",
        "    model.add(Dropout(dropout))\n",
        "    #Flatten model\n",
        "    model.add(Flatten())\n",
        "    #Add fully connected dense layer\n",
        "    model.add(Dense(numDenseNodes, activation='sigmoid'))\n",
        "    #Add output node\n",
        "    model.add(Dense(1, activation='sigmoid'))\n",
        "    \n",
        "    #Define optimizer\n",
        "    adam = tf.optimizers.Adam(learning_rate=0.001, beta_1=0.9, beta_2=0.999, epsilon=None, decay=0.0)\n",
        "    #Compile model\n",
        "    model.compile(optimizer=adam, loss='binary_crossentropy', metrics=[tf.keras.metrics.AUC(curve='PR'),                                                                                         tf.keras.metrics.PrecisionAtRecall(0.8)])\n",
        "    return model"
      ]
    },
    {
      "cell_type": "code",
      "execution_count": null,
      "metadata": {
        "id": "4VdueF5bu-Wi",
        "outputId": "c78dc015-d498-4c35-c4cd-df48df4f1f87",
        "colab": {
          "base_uri": "https://localhost:8080/"
        }
      },
      "outputs": [
        {
          "output_type": "stream",
          "name": "stdout",
          "text": [
            "Epoch 1/30\n"
          ]
        },
        {
          "output_type": "stream",
          "name": "stderr",
          "text": [
            "/usr/local/lib/python3.7/dist-packages/ipykernel_launcher.py:42: FutureWarning: Support for multi-dimensional indexing (e.g. `obj[:, None]`) is deprecated and will be removed in a future version.  Convert to a numpy array before indexing instead.\n",
            "/usr/local/lib/python3.7/dist-packages/ipykernel_launcher.py:44: FutureWarning: Support for multi-dimensional indexing (e.g. `obj[:, None]`) is deprecated and will be removed in a future version.  Convert to a numpy array before indexing instead.\n"
          ]
        },
        {
          "output_type": "stream",
          "name": "stdout",
          "text": [
            "758/758 [==============================] - 22s 28ms/step - loss: 0.5701 - auc_2: 0.7747 - precision_at_recall_2: 0.6539\n",
            "Epoch 2/30\n",
            "758/758 [==============================] - 22s 29ms/step - loss: 0.5215 - auc_2: 0.8231 - precision_at_recall_2: 0.6977\n",
            "Epoch 3/30\n",
            "758/758 [==============================] - 22s 29ms/step - loss: 0.5025 - auc_2: 0.8372 - precision_at_recall_2: 0.7155\n",
            "Epoch 4/30\n",
            "758/758 [==============================] - 21s 28ms/step - loss: 0.4864 - auc_2: 0.8489 - precision_at_recall_2: 0.7260\n",
            "Epoch 5/30\n",
            "758/758 [==============================] - 22s 28ms/step - loss: 0.4703 - auc_2: 0.8597 - precision_at_recall_2: 0.7459\n",
            "Epoch 6/30\n",
            "758/758 [==============================] - 22s 29ms/step - loss: 0.4573 - auc_2: 0.8693 - precision_at_recall_2: 0.7597\n",
            "Epoch 7/30\n",
            "758/758 [==============================] - 22s 28ms/step - loss: 0.4454 - auc_2: 0.8760 - precision_at_recall_2: 0.7713\n",
            "Epoch 8/30\n",
            "758/758 [==============================] - 22s 28ms/step - loss: 0.4329 - auc_2: 0.8831 - precision_at_recall_2: 0.7818\n",
            "Epoch 9/30\n",
            "758/758 [==============================] - 22s 29ms/step - loss: 0.4225 - auc_2: 0.8886 - precision_at_recall_2: 0.7864\n",
            "Epoch 10/30\n",
            "758/758 [==============================] - 22s 29ms/step - loss: 0.4085 - auc_2: 0.8964 - precision_at_recall_2: 0.8026\n",
            "Epoch 11/30\n",
            "758/758 [==============================] - 22s 29ms/step - loss: 0.3944 - auc_2: 0.9040 - precision_at_recall_2: 0.8175\n",
            "Epoch 12/30\n",
            "758/758 [==============================] - 23s 30ms/step - loss: 0.3814 - auc_2: 0.9108 - precision_at_recall_2: 0.8297\n",
            "Epoch 13/30\n",
            "758/758 [==============================] - 23s 31ms/step - loss: 0.3644 - auc_2: 0.9199 - precision_at_recall_2: 0.8497\n",
            "Epoch 14/30\n",
            "758/758 [==============================] - 23s 30ms/step - loss: 0.3410 - auc_2: 0.9296 - precision_at_recall_2: 0.8724\n",
            "Epoch 15/30\n",
            "758/758 [==============================] - 22s 29ms/step - loss: 0.3254 - auc_2: 0.9371 - precision_at_recall_2: 0.8798\n",
            "Epoch 16/30\n",
            "758/758 [==============================] - 22s 29ms/step - loss: 0.3111 - auc_2: 0.9424 - precision_at_recall_2: 0.8976\n",
            "Epoch 17/30\n",
            "758/758 [==============================] - 22s 29ms/step - loss: 0.2916 - auc_2: 0.9499 - precision_at_recall_2: 0.9084\n",
            "Epoch 18/30\n",
            "758/758 [==============================] - 22s 29ms/step - loss: 0.2754 - auc_2: 0.9552 - precision_at_recall_2: 0.9233\n",
            "Epoch 19/30\n",
            "758/758 [==============================] - 22s 29ms/step - loss: 0.2545 - auc_2: 0.9626 - precision_at_recall_2: 0.9404\n",
            "Epoch 20/30\n",
            "758/758 [==============================] - 22s 28ms/step - loss: 0.2395 - auc_2: 0.9664 - precision_at_recall_2: 0.9480\n",
            "Epoch 21/30\n",
            "758/758 [==============================] - 22s 29ms/step - loss: 0.2208 - auc_2: 0.9724 - precision_at_recall_2: 0.9639\n",
            "Epoch 22/30\n",
            "758/758 [==============================] - 22s 29ms/step - loss: 0.2075 - auc_2: 0.9750 - precision_at_recall_2: 0.9658\n",
            "Epoch 23/30\n",
            "758/758 [==============================] - 22s 29ms/step - loss: 0.1861 - auc_2: 0.9806 - precision_at_recall_2: 0.9759\n",
            "Epoch 24/30\n",
            "758/758 [==============================] - 22s 29ms/step - loss: 0.1752 - auc_2: 0.9828 - precision_at_recall_2: 0.9792\n",
            "Epoch 25/30\n",
            "758/758 [==============================] - 22s 29ms/step - loss: 0.1633 - auc_2: 0.9852 - precision_at_recall_2: 0.9854\n",
            "Epoch 26/30\n",
            "758/758 [==============================] - 22s 29ms/step - loss: 0.1569 - auc_2: 0.9861 - precision_at_recall_2: 0.9865\n",
            "Epoch 27/30\n",
            "758/758 [==============================] - 22s 29ms/step - loss: 0.1433 - auc_2: 0.9887 - precision_at_recall_2: 0.9912\n",
            "Epoch 28/30\n",
            "758/758 [==============================] - 22s 29ms/step - loss: 0.1321 - auc_2: 0.9905 - precision_at_recall_2: 0.9928\n",
            "Epoch 29/30\n",
            "758/758 [==============================] - 21s 28ms/step - loss: 0.1275 - auc_2: 0.9908 - precision_at_recall_2: 0.9927\n",
            "Epoch 30/30\n",
            "758/758 [==============================] - 21s 28ms/step - loss: 0.1173 - auc_2: 0.9925 - precision_at_recall_2: 0.9948\n"
          ]
        },
        {
          "output_type": "execute_result",
          "data": {
            "text/plain": [
              "<keras.callbacks.History at 0x7fa496985650>"
            ]
          },
          "metadata": {},
          "execution_count": 78
        }
      ],
      "source": [
        "model = newModel()\n",
        "model.fit(trainX, trainY, epochs = 30, batch_size=20, verbose = 1)"
      ]
    },
    {
      "cell_type": "markdown",
      "metadata": {
        "id": "nNFSOw2Pu-Wj"
      },
      "source": [
        "# Validation and Analysis "
      ]
    },
    {
      "cell_type": "code",
      "execution_count": null,
      "metadata": {
        "id": "LBPaziLeu-Wk"
      },
      "outputs": [],
      "source": [
        "#create confusion Matrix\n",
        "def confusionMatrix(model, testX, testY):\n",
        "    pred = model.predict(testX)\n",
        "    predy = []\n",
        "    for i in range(0,len(pred)):\n",
        "        if pred[i] >= .5:\n",
        "            predy.append(1)\n",
        "        else:\n",
        "            predy.append(0)\n",
        "        \n",
        "    print(confusion_matrix(testY,predy))\n",
        "    \n",
        "#Calculates our model metrics\n",
        "def modelMetrics(testX, testY, model):\n",
        "    y_scores = model.predict(testX)\n",
        "    precision, recall, thresholds = precision_recall_curve(testY, y_scores)\n",
        "    rec80 = np.max(recall[precision >= .8])\n",
        "    print(\"Recall at 80% Precision: \" +str(rec80))\n",
        "    aucPR = auc(recall, precision)\n",
        "    print(\"PR-AUC: \" + str(aucPR))\n",
        "    \n",
        "    return rec80, aucPR, \n",
        "\n",
        "#plots a PR curve\n",
        "def PRplot(testX, testY, model):\n",
        "    y_scores = model.predict(testX)\n",
        "    precision, recall, thresholds = precision_recall_curve(testY, y_scores)\n",
        "    plt.plot(recall, precision)\n",
        "    plt.title(\"PR curve\")\n",
        "    plt.xlabel(\"Recall\")\n",
        "    plt.ylabel(\"Precision\")"
      ]
    },
    {
      "cell_type": "code",
      "execution_count": null,
      "metadata": {
        "id": "Ijalir7Eu-Wl",
        "colab": {
          "base_uri": "https://localhost:8080/",
          "height": 366
        },
        "outputId": "200af532-6591-4370-cf87-7f15ac8ac047"
      },
      "outputs": [
        {
          "output_type": "stream",
          "name": "stdout",
          "text": [
            "Recall at 80% Precision: 0.9050131926121372\n",
            "PR-AUC: 0.9229010413489216\n",
            "[[1579  316]\n",
            " [ 269 1626]]\n"
          ]
        },
        {
          "output_type": "display_data",
          "data": {
            "text/plain": [
              "<Figure size 432x288 with 1 Axes>"
            ],
            "image/png": "[encoded data removed]"
          },
          "metadata": {
            "needs_background": "light"
          }
        }
      ],
      "source": [
        "modelMetrics(testX, testY, model)\n",
        "confusionMatrix(model, testX, testY)\n",
        "PRplot(testX, testY, model)"
      ]
    },
    {
      "cell_type": "code",
      "execution_count": null,
      "metadata": {
        "id": "xXOKq1kMu-Wn"
      },
      "outputs": [],
      "source": [
        ""
      ]
    },
    {
      "cell_type": "markdown",
      "source": [
        "OTHER MODELS"
      ],
      "metadata": {
        "id": "geo4wonO1BFb"
      }
    },
    {
      "cell_type": "markdown",
      "source": [
        "RF STARTS"
      ],
      "metadata": {
        "id": "XrycnyW12ZXd"
      }
    },
    {
      "cell_type": "code",
      "source": [
        "from sklearn.ensemble import RandomForestClassifier\n",
        "from sklearn.model_selection import StratifiedKFold, train_test_split,KFold\n",
        "from sklearn.metrics import accuracy_score, precision_score, recall_score, f1_score, classification_report\n",
        "import pandas as pd\n",
        "import numpy as np\n",
        "# from fastcore.all import *\n",
        "from collections import defaultdict\n",
        "# import optuna\n",
        "from scipy.cluster import hierarchy as hc\n",
        "from scipy.stats import spearmanr\n",
        "from matplotlib import pyplot as plt"
      ],
      "metadata": {
        "id": "ol6g5L_04ez8"
      },
      "execution_count": null,
      "outputs": []
    },
    {
      "cell_type": "code",
      "source": [
        "trainX_Org = trainFull.iloc[:,:-2]\n",
        "trainY_Org = trainFull.iloc[:,-1]\n",
        "\n",
        "testX_Org = testFull.iloc[:,:-2]\n",
        "testY_Org = testFull.iloc[:,-1]\n",
        "\n",
        "#Standard scale training data\n",
        "trainScaler = StandardScaler()\n",
        "trainScaler.fit(trainX_Org)\n",
        "trainX_Org = trainScaler.transform(trainX_Org)\n",
        "\n",
        "#Standard scale testing data\n",
        "testScaler = StandardScaler()\n",
        "testScaler.fit(testX_Org)\n",
        "testX_Org = testScaler.transform(testX_Org)"
      ],
      "metadata": {
        "id": "oLSzgqqf1DdO"
      },
      "execution_count": null,
      "outputs": []
    },
    {
      "cell_type": "code",
      "source": [
        "rf_clf = RandomForestClassifier(\n",
        "    n_estimators=100,\n",
        "    max_features=0.5,\n",
        "    min_samples_leaf=4,\n",
        "    oob_score=True,\n",
        "    n_jobs=-1,\n",
        ")\n",
        "rf_clf.fit(trainX_Org ,trainY_Org)\n"
      ],
      "metadata": {
        "colab": {
          "base_uri": "https://localhost:8080/"
        },
        "id": "q2ac3Ki01RGd",
        "outputId": "99ed65a9-4c08-4d04-96fd-ed31764e869a"
      },
      "execution_count": null,
      "outputs": [
        {
          "output_type": "execute_result",
          "data": {
            "text/plain": [
              "RandomForestClassifier(max_features=0.5, min_samples_leaf=4, n_jobs=-1,\n",
              "                       oob_score=True)"
            ]
          },
          "metadata": {},
          "execution_count": 106
        }
      ]
    },
    {
      "cell_type": "code",
      "source": [
        "modelMetrics(testX_Org, testY_Org, rf_clf)\n",
        "confusionMatrix(rf_clf, testX_Org, testY_Org)\n",
        "PRplot(testX_Org, testY_Org, rf_clf)"
      ],
      "metadata": {
        "colab": {
          "base_uri": "https://localhost:8080/",
          "height": 366
        },
        "id": "SBksCsK39iJi",
        "outputId": "385d4ed6-e861-4681-cb3c-661abe48de31"
      },
      "execution_count": null,
      "outputs": [
        {
          "output_type": "stream",
          "name": "stdout",
          "text": [
            "Recall at 80% Precision: 0.7757255936675461\n",
            "PR-AUC: 0.8580159054591401\n",
            "[[1590  305]\n",
            " [ 425 1470]]\n"
          ]
        },
        {
          "output_type": "display_data",
          "data": {
            "text/plain": [
              "<Figure size 432x288 with 1 Axes>"
            ],
            "image/png": "[encoded data removed]"
          },
          "metadata": {
            "needs_background": "light"
          }
        }
      ]
    },
    {
      "cell_type": "markdown",
      "source": [
        "RF ENDS"
      ],
      "metadata": {
        "id": "QxCNXe1D1tYD"
      }
    },
    {
      "cell_type": "markdown",
      "source": [
        "SVM STARTS"
      ],
      "metadata": {
        "id": "DsIwVAtY1unW"
      }
    },
    {
      "cell_type": "code",
      "source": [
        "from sklearn import svm\n",
        "svm_clf = svm.SVC()\n",
        "svm_clf.fit(trainX_Org, trainY_Org)\n"
      ],
      "metadata": {
        "colab": {
          "base_uri": "https://localhost:8080/"
        },
        "id": "4uHo0bHB1op7",
        "outputId": "2af1b5f0-429f-414a-f68d-9be0cffc5aaa"
      },
      "execution_count": null,
      "outputs": [
        {
          "output_type": "execute_result",
          "data": {
            "text/plain": [
              "SVC()"
            ]
          },
          "metadata": {},
          "execution_count": 108
        }
      ]
    },
    {
      "cell_type": "code",
      "source": [
        "modelMetrics(testX_Org, testY_Org, svm_clf)\n",
        "confusionMatrix(svm_clf, testX_Org, testY_Org)\n",
        "PRplot(testX_Org, testY_Org, svm_clf)"
      ],
      "metadata": {
        "colab": {
          "base_uri": "https://localhost:8080/",
          "height": 366
        },
        "id": "Es-FDfaL2APM",
        "outputId": "7d7363b5-bc51-4d91-bf66-321aacbf3872"
      },
      "execution_count": null,
      "outputs": [
        {
          "output_type": "stream",
          "name": "stdout",
          "text": [
            "Recall at 80% Precision: 0.0\n",
            "PR-AUC: 0.8231980124500692\n",
            "[[1495  400]\n",
            " [ 497 1398]]\n"
          ]
        },
        {
          "output_type": "display_data",
          "data": {
            "text/plain": [
              "<Figure size 432x288 with 1 Axes>"
            ],
            "image/png": "[encoded data removed]"
          },
          "metadata": {
            "needs_background": "light"
          }
        }
      ]
    },
    {
      "cell_type": "markdown",
      "source": [
        "NAIVE BAYSE"
      ],
      "metadata": {
        "id": "ajeBtLv0_Y0o"
      }
    },
    {
      "cell_type": "code",
      "source": [
        "from sklearn.naive_bayes import GaussianNB\n",
        "nb_clf = GaussianNB()\n",
        "nb_clf.fit(trainX_Org, trainY_Org)"
      ],
      "metadata": {
        "colab": {
          "base_uri": "https://localhost:8080/"
        },
        "id": "DEegvq35_aus",
        "outputId": "873227c2-ce10-417e-8a84-ad677d6cfbb4"
      },
      "execution_count": null,
      "outputs": [
        {
          "output_type": "execute_result",
          "data": {
            "text/plain": [
              "GaussianNB()"
            ]
          },
          "metadata": {},
          "execution_count": 110
        }
      ]
    },
    {
      "cell_type": "code",
      "source": [
        "modelMetrics(testX_Org, testY_Org, nb_clf)\n",
        "confusionMatrix(nb_clf, testX_Org, testY_Org)\n",
        "PRplot(testX_Org, testY_Org, nb_clf)"
      ],
      "metadata": {
        "colab": {
          "base_uri": "https://localhost:8080/",
          "height": 366
        },
        "id": "xXlmfnhyADoQ",
        "outputId": "b6ee065f-03f9-49e1-9068-7b7679130e1e"
      },
      "execution_count": null,
      "outputs": [
        {
          "output_type": "stream",
          "name": "stdout",
          "text": [
            "Recall at 80% Precision: 0.0\n",
            "PR-AUC: 0.7202914233197948\n",
            "[[1531  364]\n",
            " [1013  882]]\n"
          ]
        },
        {
          "output_type": "display_data",
          "data": {
            "text/plain": [
              "<Figure size 432x288 with 1 Axes>"
            ],
            "image/png": "[encoded data removed]"
          },
          "metadata": {
            "needs_background": "light"
          }
        }
      ]
    },
    {
      "cell_type": "markdown",
      "source": [
        "Logistic Regression"
      ],
      "metadata": {
        "id": "WxfZZuVYAMf2"
      }
    },
    {
      "cell_type": "code",
      "source": [
        "from sklearn.linear_model import LogisticRegression\n",
        "lr_clf = LogisticRegression(solver = 'saga')\n",
        "lr_clf.fit(trainX_Org, trainY_Org)"
      ],
      "metadata": {
        "colab": {
          "base_uri": "https://localhost:8080/"
        },
        "id": "pHHOOm0fARer",
        "outputId": "c86f06bd-a3d1-41ca-f050-72b3ce14d419"
      },
      "execution_count": null,
      "outputs": [
        {
          "output_type": "stream",
          "name": "stderr",
          "text": [
            "/usr/local/lib/python3.7/dist-packages/sklearn/linear_model/_sag.py:354: ConvergenceWarning: The max_iter was reached which means the coef_ did not converge\n",
            "  ConvergenceWarning,\n"
          ]
        },
        {
          "output_type": "execute_result",
          "data": {
            "text/plain": [
              "LogisticRegression(solver='saga')"
            ]
          },
          "metadata": {},
          "execution_count": 112
        }
      ]
    },
    {
      "cell_type": "code",
      "source": [
        "modelMetrics(testX_Org, testY_Org, lr_clf)\n",
        "confusionMatrix(lr_clf, testX_Org, testY_Org)\n",
        "PRplot(testX_Org, testY_Org, lr_clf)"
      ],
      "metadata": {
        "colab": {
          "base_uri": "https://localhost:8080/",
          "height": 366
        },
        "id": "5aG3pLGIEt13",
        "outputId": "77468b3e-2d42-49c0-a87c-cec9459f197e"
      },
      "execution_count": null,
      "outputs": [
        {
          "output_type": "stream",
          "name": "stdout",
          "text": [
            "Recall at 80% Precision: 0.0\n",
            "PR-AUC: 0.7886202684258745\n",
            "[[1398  497]\n",
            " [ 569 1326]]\n"
          ]
        },
        {
          "output_type": "display_data",
          "data": {
            "text/plain": [
              "<Figure size 432x288 with 1 Axes>"
            ],
            "image/png": "[encoded data removed]"
          },
          "metadata": {
            "needs_background": "light"
          }
        }
      ]
    },
    {
      "cell_type": "code",
      "source": [
        "trainX_Org"
      ],
      "metadata": {
        "colab": {
          "base_uri": "https://localhost:8080/"
        },
        "id": "3gEuaezzVhht",
        "outputId": "88e31dd8-17b0-4231-dadb-4e3efd79f51c"
      },
      "execution_count": null,
      "outputs": [
        {
          "output_type": "execute_result",
          "data": {
            "text/plain": [
              "array([[-0.46383342, -0.48047996, -1.00154686, ..., -0.06292102,\n",
              "        -0.06950486, -0.17422432],\n",
              "       [-0.24016716, -0.4350187 , -1.75047717, ..., -0.06292102,\n",
              "        -0.06950486, -0.17422432],\n",
              "       [-0.35200029, -0.30161599,  0.40764041, ..., -0.06292102,\n",
              "        -0.06950486, -0.17422432],\n",
              "       ...,\n",
              "       [-0.27744487, -0.17044908,  0.78561484, ..., -0.06292102,\n",
              "        -0.06950486, -0.17422432],\n",
              "       [ 0.02077681, -0.0497159 , -0.44234556, ..., -0.06292102,\n",
              "        -0.06950486, -0.17422432],\n",
              "       [ 0.24444307,  0.38104816,  0.29260472, ..., -0.06292102,\n",
              "        -0.06950486, -0.17422432]])"
            ]
          },
          "metadata": {},
          "execution_count": 114
        }
      ]
    },
    {
      "cell_type": "code",
      "source": [
        "trainX"
      ],
      "metadata": {
        "colab": {
          "base_uri": "https://localhost:8080/"
        },
        "id": "GkFnd5w5Vl1a",
        "outputId": "7c429672-b7a3-4e7b-80e1-2f32269be5b0"
      },
      "execution_count": null,
      "outputs": [
        {
          "output_type": "execute_result",
          "data": {
            "text/plain": [
              "array([[[-0.46383342],\n",
              "        [-0.48047996],\n",
              "        [-1.00154686],\n",
              "        ...,\n",
              "        [-0.06292102],\n",
              "        [-0.06950486],\n",
              "        [-0.17422432]],\n",
              "\n",
              "       [[-0.24016716],\n",
              "        [-0.4350187 ],\n",
              "        [-1.75047717],\n",
              "        ...,\n",
              "        [-0.06292102],\n",
              "        [-0.06950486],\n",
              "        [-0.17422432]],\n",
              "\n",
              "       [[-0.35200029],\n",
              "        [-0.30161599],\n",
              "        [ 0.40764041],\n",
              "        ...,\n",
              "        [-0.06292102],\n",
              "        [-0.06950486],\n",
              "        [-0.17422432]],\n",
              "\n",
              "       ...,\n",
              "\n",
              "       [[-0.27744487],\n",
              "        [-0.17044908],\n",
              "        [ 0.78561484],\n",
              "        ...,\n",
              "        [-0.06292102],\n",
              "        [-0.06950486],\n",
              "        [-0.17422432]],\n",
              "\n",
              "       [[ 0.02077681],\n",
              "        [-0.0497159 ],\n",
              "        [-0.44234556],\n",
              "        ...,\n",
              "        [-0.06292102],\n",
              "        [-0.06950486],\n",
              "        [-0.17422432]],\n",
              "\n",
              "       [[ 0.24444307],\n",
              "        [ 0.38104816],\n",
              "        [ 0.29260472],\n",
              "        ...,\n",
              "        [-0.06292102],\n",
              "        [-0.06950486],\n",
              "        [-0.17422432]]])"
            ]
          },
          "metadata": {},
          "execution_count": 115
        }
      ]
    },
    {
      "cell_type": "markdown",
      "source": [
        "Analysis"
      ],
      "metadata": {
        "id": "XSVDf6YI2CRX"
      }
    },
    {
      "cell_type": "code",
      "source": [
        "#Calculates our model metrics\n",
        "def modelMetrics(testX, testY, model):\n",
        "    y_scores = model.predict(testX)\n",
        "    precision, recall, thresholds = precision_recall_curve(testY, y_scores)\n",
        "    rec80 = np.max(recall[precision >= .8])\n",
        "    print(\"Recall at 80% Precision: \" +str(rec80))\n",
        "    aucPR = auc(recall, precision)\n",
        "    print(\"PR-AUC: \" + str(aucPR))\n",
        "    \n",
        "    return rec80, aucPR, "
      ],
      "metadata": {
        "id": "fcbEMaoQ2EHq"
      },
      "execution_count": null,
      "outputs": []
    },
    {
      "cell_type": "code",
      "source": [
        "modelMetrics(testX, testY, rf_clf)"
      ],
      "metadata": {
        "id": "skdG7SSZ2MDM"
      },
      "execution_count": null,
      "outputs": []
    },
    {
      "cell_type": "code",
      "source": [
        "modelMetrics(testX, testY, svm_clf)"
      ],
      "metadata": {
        "id": "WghD3H4E2OXD"
      },
      "execution_count": null,
      "outputs": []
    }
  ],
  "metadata": {
    "kernelspec": {
      "display_name": "Python 3 (ipykernel)",
      "language": "python",
      "name": "python3"
    },
    "language_info": {
      "codemirror_mode": {
        "name": "ipython",
        "version": 3
      },
      "file_extension": ".py",
      "mimetype": "text/x-python",
      "name": "python",
      "nbconvert_exporter": "python",
      "pygments_lexer": "ipython3",
      "version": "3.9.7"
    },
    "colab": {
      "name": "ACP-All-Models.ipynb",
      "provenance": []
    }
  },
  "nbformat": 4,
  "nbformat_minor": 0
}