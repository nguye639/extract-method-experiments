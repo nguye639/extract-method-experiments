{
  "cells": [
    {
      "cell_type": "code",
      "execution_count": 53,
      "metadata": {
        "id": "2jCaWrw6u-WV"
      },
      "outputs": [],
      "source": [
        "#import libraries\n",
        "import pandas as pd\n",
        "import numpy as np\n",
        "import matplotlib.pyplot as plt\n",
        "from sklearn.preprocessing import StandardScaler\n",
        "import tensorflow as tf\n",
        "from keras.models import Sequential\n",
        "from keras.layers import Dropout, LSTM, Flatten, Dense\n",
        "from keras.layers.convolutional import Conv1D, MaxPooling1D\n",
        "from sklearn import metrics\n",
        "from sklearn.metrics import roc_auc_score\n",
        "from sklearn.metrics import precision_recall_curve\n",
        "from sklearn.metrics import auc\n",
        "from sklearn.metrics import confusion_matrix\n",
        "from sklearn.metrics import f1_score\n",
        "from sklearn.metrics import precision_score"
      ]
    },
    {
      "cell_type": "markdown",
      "metadata": {
        "id": "SrLeVAK_u-Wa"
      },
      "source": [
        "# Data Input and Model Creation"
      ]
    },
    {
      "cell_type": "code",
      "execution_count": 12,
      "metadata": {
        "colab": {
          "base_uri": "https://localhost:8080/"
        },
        "id": "AIwiX0R1vjvu",
        "outputId": "d7823e77-a04f-4736-aed5-43b9c720978e"
      },
      "outputs": [
        {
          "output_type": "stream",
          "name": "stdout",
          "text": [
            "Drive already mounted at /content/drive; to attempt to forcibly remount, call drive.mount(\"/content/drive\", force_remount=True).\n"
          ]
        }
      ],
      "source": [
        "from google.colab import drive\n",
        "drive.mount('/content/drive')"
      ]
    },
    {
      "cell_type": "code",
      "execution_count": 13,
      "metadata": {
        "id": "xM0WHIGbu-Wc"
      },
      "outputs": [],
      "source": [
        "#Concatenate positive and negative samples\n",
        "trainFull = pd.read_csv(\"drive/MyDrive/PreprocessedData/trainFull.csv\")\n",
        "testFull = pd.read_csv(\"drive/MyDrive/PreprocessedData/testFull.csv\")\n",
        "    \n",
        "#Randomize samples\n",
        "trainFull = trainFull.sample(len(trainFull))\n",
        "testFull = testFull.sample(len(testFull))\n",
        "\n",
        "#Randomize samples\n",
        "trainFull = trainFull.sample(len(trainFull))\n",
        "testFull = testFull.sample(len(testFull))\n"
      ]
    },
    {
      "cell_type": "code",
      "execution_count": 14,
      "metadata": {
        "colab": {
          "base_uri": "https://localhost:8080/"
        },
        "id": "eyh48C1xWQIU",
        "outputId": "6305873b-cb3b-4bdd-f403-b5258a339431"
      },
      "outputs": [
        {
          "output_type": "stream",
          "name": "stderr",
          "text": [
            "/usr/local/lib/python3.7/dist-packages/ipykernel_launcher.py:21: FutureWarning: Support for multi-dimensional indexing (e.g. `obj[:, None]`) is deprecated and will be removed in a future version.  Convert to a numpy array before indexing instead.\n",
            "/usr/local/lib/python3.7/dist-packages/ipykernel_launcher.py:23: FutureWarning: Support for multi-dimensional indexing (e.g. `obj[:, None]`) is deprecated and will be removed in a future version.  Convert to a numpy array before indexing instead.\n"
          ]
        }
      ],
      "source": [
        "#Reduce features and extract labels\n",
        "trainX = trainFull.iloc[:,:-2]\n",
        "trainY = trainFull.iloc[:,-1]\n",
        "testX = testFull.iloc[:,:-2]\n",
        "testY = testFull.iloc[:,-1]\n",
        "#Standard scale training data\n",
        "trainScaler = StandardScaler()\n",
        "trainScaler.fit(trainX)\n",
        "trainX = trainScaler.transform(trainX)\n",
        "\n",
        "#Export standard scale\n",
        "#dump(trainScaler, 'standardScaler.bin', compress=True)\n",
        "\n",
        "#Standard scale testing data\n",
        "testScaler = StandardScaler()\n",
        "testScaler.fit(testX)\n",
        "testX = testScaler.transform(testX)\n",
        "\n",
        "#Reshape data to 3D for CNN\n",
        "trainX = trainX[..., None]\n",
        "trainY = trainY[..., None]\n",
        "testX = testX[..., None]\n",
        "testY = testY[..., None]"
      ]
    },
    {
      "cell_type": "code",
      "execution_count": 15,
      "metadata": {
        "id": "c8oFOTrZu-Wf"
      },
      "outputs": [],
      "source": [
        "\"\"\"\n",
        "This method contains the architecture for the CNN used.\n",
        "It uses tensorflow sequential as the basis to crease the model.\n",
        "\n",
        "@param numConvFilters: number of convolutional filters in the 2nd hidden layer. We recommend >32 to upscale.\n",
        "@param dropout: fraction of nodes dropped out of the Max Pooling layer.\n",
        "@param numDenseNodes: number of dense nodes in the feed forward layer.\n",
        "\n",
        "Recommended:\n",
        "numConvFilters = 242\n",
        "dropout = .215\n",
        "numDenseNodes = 190\n",
        "\n",
        "\"\"\"\n",
        "def newModel(numConvFilters = 242, dropout = .215, numDenseNodes = 190):\n",
        "    #Create new sequential model\n",
        "    model = Sequential()\n",
        "\n",
        "    #Add 1D Convolutional layers\n",
        "    model.add((Conv1D(filters=32, kernel_size=3, activation='relu')))\n",
        "    model.add((Conv1D(filters=numConvFilters, kernel_size=3, activation='relu')))\n",
        "    #Add Max Pooling layer\n",
        "    model.add((MaxPooling1D(pool_size=2)))\n",
        "    #Apply dropout\n",
        "    model.add(Dropout(dropout))\n",
        "    #Flatten model\n",
        "    model.add(Flatten())\n",
        "    #Add fully connected dense layer\n",
        "    model.add(Dense(numDenseNodes, activation='sigmoid'))\n",
        "    #Add output node\n",
        "    model.add(Dense(1, activation='sigmoid'))\n",
        "    \n",
        "    #Define optimizer\n",
        "    adam = tf.optimizers.Adam(learning_rate=0.001, beta_1=0.9, beta_2=0.999, epsilon=None, decay=0.0)\n",
        "    #Compile model\n",
        "    model.compile(optimizer=adam, loss='binary_crossentropy', metrics=[tf.keras.metrics.AUC(curve='PR'),                                                                                         tf.keras.metrics.RecallAtPrecision(0.8)])\n",
        "    return model"
      ]
    },
    {
      "cell_type": "code",
      "execution_count": 16,
      "metadata": {
        "colab": {
          "base_uri": "https://localhost:8080/"
        },
        "id": "4VdueF5bu-Wi",
        "outputId": "6b4ac876-4dce-4224-d165-4b7ed7bf9530"
      },
      "outputs": [
        {
          "output_type": "stream",
          "name": "stdout",
          "text": [
            "Epoch 1/30\n",
            "758/758 [==============================] - 24s 29ms/step - loss: 0.5752 - auc_1: 0.7669 - recall_at_precision: 0.4145\n",
            "Epoch 2/30\n",
            "758/758 [==============================] - 22s 29ms/step - loss: 0.5236 - auc_1: 0.8202 - recall_at_precision: 0.5859\n",
            "Epoch 3/30\n",
            "758/758 [==============================] - 22s 29ms/step - loss: 0.5076 - auc_1: 0.8328 - recall_at_precision: 0.6117\n",
            "Epoch 4/30\n",
            "758/758 [==============================] - 22s 29ms/step - loss: 0.4930 - auc_1: 0.8442 - recall_at_precision: 0.6576\n",
            "Epoch 5/30\n",
            "758/758 [==============================] - 22s 29ms/step - loss: 0.4817 - auc_1: 0.8527 - recall_at_precision: 0.6721\n",
            "Epoch 6/30\n",
            "758/758 [==============================] - 23s 31ms/step - loss: 0.4723 - auc_1: 0.8586 - recall_at_precision: 0.6951\n",
            "Epoch 7/30\n",
            "758/758 [==============================] - 22s 29ms/step - loss: 0.4579 - auc_1: 0.8687 - recall_at_precision: 0.7186\n",
            "Epoch 8/30\n",
            "758/758 [==============================] - 22s 29ms/step - loss: 0.4500 - auc_1: 0.8731 - recall_at_precision: 0.7438\n",
            "Epoch 9/30\n",
            "758/758 [==============================] - 22s 29ms/step - loss: 0.4321 - auc_1: 0.8845 - recall_at_precision: 0.7694\n",
            "Epoch 10/30\n",
            "758/758 [==============================] - 22s 29ms/step - loss: 0.4231 - auc_1: 0.8896 - recall_at_precision: 0.7883\n",
            "Epoch 11/30\n",
            "758/758 [==============================] - 23s 30ms/step - loss: 0.4142 - auc_1: 0.8944 - recall_at_precision: 0.8073\n",
            "Epoch 12/30\n",
            "758/758 [==============================] - 22s 29ms/step - loss: 0.4012 - auc_1: 0.9015 - recall_at_precision: 0.8223\n",
            "Epoch 13/30\n",
            "758/758 [==============================] - 22s 29ms/step - loss: 0.3857 - auc_1: 0.9096 - recall_at_precision: 0.8421\n",
            "Epoch 14/30\n",
            "758/758 [==============================] - 23s 30ms/step - loss: 0.3726 - auc_1: 0.9159 - recall_at_precision: 0.8564\n",
            "Epoch 15/30\n",
            "758/758 [==============================] - 23s 30ms/step - loss: 0.3633 - auc_1: 0.9204 - recall_at_precision: 0.8667\n",
            "Epoch 16/30\n",
            "758/758 [==============================] - 23s 30ms/step - loss: 0.3513 - auc_1: 0.9260 - recall_at_precision: 0.8840\n",
            "Epoch 17/30\n",
            "758/758 [==============================] - 23s 30ms/step - loss: 0.3362 - auc_1: 0.9327 - recall_at_precision: 0.8955\n",
            "Epoch 18/30\n",
            "758/758 [==============================] - 23s 30ms/step - loss: 0.3236 - auc_1: 0.9372 - recall_at_precision: 0.9145\n",
            "Epoch 19/30\n",
            "758/758 [==============================] - 23s 30ms/step - loss: 0.3026 - auc_1: 0.9453 - recall_at_precision: 0.9269\n",
            "Epoch 20/30\n",
            "758/758 [==============================] - 22s 29ms/step - loss: 0.2859 - auc_1: 0.9519 - recall_at_precision: 0.9376\n",
            "Epoch 21/30\n",
            "758/758 [==============================] - 22s 29ms/step - loss: 0.2692 - auc_1: 0.9572 - recall_at_precision: 0.9490\n",
            "Epoch 22/30\n",
            "758/758 [==============================] - 22s 29ms/step - loss: 0.2519 - auc_1: 0.9628 - recall_at_precision: 0.9613\n",
            "Epoch 23/30\n",
            "758/758 [==============================] - 22s 29ms/step - loss: 0.2346 - auc_1: 0.9682 - recall_at_precision: 0.9692\n",
            "Epoch 24/30\n",
            "758/758 [==============================] - 22s 29ms/step - loss: 0.2175 - auc_1: 0.9724 - recall_at_precision: 0.9773\n",
            "Epoch 25/30\n",
            "758/758 [==============================] - 22s 29ms/step - loss: 0.2042 - auc_1: 0.9763 - recall_at_precision: 0.9809\n",
            "Epoch 26/30\n",
            "758/758 [==============================] - 22s 29ms/step - loss: 0.1894 - auc_1: 0.9797 - recall_at_precision: 0.9847\n",
            "Epoch 27/30\n",
            "758/758 [==============================] - 22s 29ms/step - loss: 0.1743 - auc_1: 0.9833 - recall_at_precision: 0.9869\n",
            "Epoch 28/30\n",
            "758/758 [==============================] - 22s 29ms/step - loss: 0.1616 - auc_1: 0.9854 - recall_at_precision: 0.9902\n",
            "Epoch 29/30\n",
            "758/758 [==============================] - 22s 30ms/step - loss: 0.1522 - auc_1: 0.9871 - recall_at_precision: 0.9927\n",
            "Epoch 30/30\n",
            "758/758 [==============================] - 23s 30ms/step - loss: 0.1441 - auc_1: 0.9885 - recall_at_precision: 0.9942\n"
          ]
        },
        {
          "output_type": "execute_result",
          "data": {
            "text/plain": [
              "<keras.callbacks.History at 0x7f8098a5f310>"
            ]
          },
          "metadata": {},
          "execution_count": 16
        }
      ],
      "source": [
        "model = newModel()\n",
        "model.fit(trainX, trainY, epochs = 30, batch_size=20, verbose = 1)"
      ]
    },
    {
      "cell_type": "code",
      "source": [
        "y_scores"
      ],
      "metadata": {
        "colab": {
          "base_uri": "https://localhost:8080/",
          "height": 169
        },
        "id": "vaEEpsxGRzMg",
        "outputId": "5ebd30e4-2d52-4ce2-d23f-c595df23182e"
      },
      "execution_count": 21,
      "outputs": [
        {
          "output_type": "error",
          "ename": "NameError",
          "evalue": "ignored",
          "traceback": [
            "\u001b[0;31m---------------------------------------------------------------------------\u001b[0m",
            "\u001b[0;31mNameError\u001b[0m                                 Traceback (most recent call last)",
            "\u001b[0;32m<ipython-input-21-4b4579ef0f7f>\u001b[0m in \u001b[0;36m<module>\u001b[0;34m()\u001b[0m\n\u001b[0;32m----> 1\u001b[0;31m \u001b[0my_scores\u001b[0m\u001b[0;34m\u001b[0m\u001b[0;34m\u001b[0m\u001b[0m\n\u001b[0m",
            "\u001b[0;31mNameError\u001b[0m: name 'y_scores' is not defined"
          ]
        }
      ]
    },
    {
      "cell_type": "markdown",
      "metadata": {
        "id": "nNFSOw2Pu-Wj"
      },
      "source": [
        "# Validation and Analysis "
      ]
    },
    {
      "cell_type": "code",
      "execution_count": 89,
      "metadata": {
        "id": "LBPaziLeu-Wk"
      },
      "outputs": [],
      "source": [
        "#create confusion Matrix\n",
        "def confusionMatrix(model, testX, testY):\n",
        "    pred = model.predict(testX)\n",
        "    predy = []\n",
        "    for i in range(0,len(pred)):\n",
        "        if pred[i] >= .5:\n",
        "            predy.append(1)\n",
        "        else:\n",
        "            predy.append(0)\n",
        "        \n",
        "    print(confusion_matrix(testY,predy))\n",
        "    return(testY,predy)\n",
        "    \n",
        "#Calculates our model metrics\n",
        "def modelMetrics(testX, testY, model):\n",
        "    y_scores = model.predict(testX)\n",
        "    predy = []\n",
        "    for i in range(0,len(y_scores)):\n",
        "        if y_scores[i] >= .5:\n",
        "            predy.append(1)\n",
        "        else:\n",
        "            predy.append(0)\n",
        "    precision, recall, thresholds = precision_recall_curve(testY, y_scores)\n",
        "    rec80 = np.max(recall[precision >= .8])\n",
        "    print(\"Recall at 80% Precision: \" +str(rec80))\n",
        "    aucPR = auc(recall, precision)\n",
        "    print(\"PR-AUC: \" + str(aucPR))    \n",
        "    precisionscore = precision_score(testY, predy, average=\"macro\")\n",
        "    print(\"Precision:\"+str(precisionscore))\n",
        "    f1 = f1_score(testY, predy, average=\"macro\")\n",
        "    print(\"F1:\"+str(f1))\n",
        "    return rec80, aucPR\n",
        "\n",
        "#plots a PR curve\n",
        "def PRplot(testX, testY, model):\n",
        "    y_scores = model.predict(testX)\n",
        "    precision, recall, thresholds = precision_recall_curve(testY, y_scores)\n",
        "    plt.plot(recall, precision)\n",
        "    plt.title(\"PR curve\")\n",
        "    plt.xlabel(\"Recall\")\n",
        "    plt.ylabel(\"Precision\")"
      ]
    },
    {
      "cell_type": "code",
      "execution_count": 90,
      "metadata": {
        "colab": {
          "base_uri": "https://localhost:8080/",
          "height": 402
        },
        "id": "Ijalir7Eu-Wl",
        "outputId": "77ee1970-ff60-43a2-c8ec-38c09171b814"
      },
      "outputs": [
        {
          "output_type": "stream",
          "name": "stdout",
          "text": [
            "Recall at 80% Precision: 0.8965699208443272\n",
            "PR-AUC: 0.9210022751766479\n",
            "Precision:0.8467297512264895\n",
            "F1:0.8466987626055509\n",
            "[[1596  299]\n",
            " [ 282 1613]]\n"
          ]
        },
        {
          "output_type": "display_data",
          "data": {
            "text/plain": [
              "<Figure size 432x288 with 1 Axes>"
            ],
            "image/png": "[encoded data removed]"
          },
          "metadata": {
            "needs_background": "light"
          }
        }
      ],
      "source": [
        "modelMetrics(testX, testY, model)\n",
        "y_target,y_cnn=confusionMatrix(model, testX, testY)\n",
        "PRplot(testX, testY, model)"
      ]
    },
    {
      "cell_type": "markdown",
      "metadata": {
        "id": "geo4wonO1BFb"
      },
      "source": [
        "OTHER MODELS"
      ]
    },
    {
      "cell_type": "markdown",
      "metadata": {
        "id": "XrycnyW12ZXd"
      },
      "source": [
        "RF STARTS"
      ]
    },
    {
      "cell_type": "code",
      "execution_count": 91,
      "metadata": {
        "id": "ol6g5L_04ez8"
      },
      "outputs": [],
      "source": [
        "from sklearn.ensemble import RandomForestClassifier\n",
        "from sklearn.model_selection import StratifiedKFold, train_test_split,KFold\n",
        "from sklearn.metrics import accuracy_score, precision_score, recall_score, f1_score, classification_report\n",
        "import pandas as pd\n",
        "import numpy as np\n",
        "# from fastcore.all import *\n",
        "from collections import defaultdict\n",
        "# import optuna\n",
        "from scipy.cluster import hierarchy as hc\n",
        "from scipy.stats import spearmanr\n",
        "from matplotlib import pyplot as plt\n",
        "from mlxtend.evaluate import mcnemar_table,mcnemar"
      ]
    },
    {
      "cell_type": "code",
      "execution_count": 92,
      "metadata": {
        "id": "oLSzgqqf1DdO"
      },
      "outputs": [],
      "source": [
        "trainX_Org = trainFull.iloc[:,:-2]\n",
        "trainY_Org = trainFull.iloc[:,-1]\n",
        "\n",
        "testX_Org = testFull.iloc[:,:-2]\n",
        "testY_Org = testFull.iloc[:,-1]\n",
        "\n",
        "#Standard scale training data\n",
        "trainScaler = StandardScaler()\n",
        "trainScaler.fit(trainX_Org)\n",
        "trainX_Org = trainScaler.transform(trainX_Org)\n",
        "\n",
        "#Standard scale testing data\n",
        "testScaler = StandardScaler()\n",
        "testScaler.fit(testX_Org)\n",
        "testX_Org = testScaler.transform(testX_Org)"
      ]
    },
    {
      "cell_type": "code",
      "execution_count": 93,
      "metadata": {
        "colab": {
          "base_uri": "https://localhost:8080/"
        },
        "id": "q2ac3Ki01RGd",
        "outputId": "15f1139b-0506-4447-d3e5-7abaa32abc21"
      },
      "outputs": [
        {
          "output_type": "execute_result",
          "data": {
            "text/plain": [
              "RandomForestClassifier(max_features=0.5, min_samples_leaf=4, n_jobs=-1,\n",
              "                       oob_score=True)"
            ]
          },
          "metadata": {},
          "execution_count": 93
        }
      ],
      "source": [
        "rf_clf = RandomForestClassifier(\n",
        "    n_estimators=100,\n",
        "    max_features=0.5,\n",
        "    min_samples_leaf=4,\n",
        "    oob_score=True,\n",
        "    n_jobs=-1,\n",
        ")\n",
        "rf_clf.fit(trainX_Org ,trainY_Org)\n"
      ]
    },
    {
      "cell_type": "code",
      "execution_count": 94,
      "metadata": {
        "colab": {
          "base_uri": "https://localhost:8080/",
          "height": 402
        },
        "id": "SBksCsK39iJi",
        "outputId": "6f2f3af4-4deb-4986-e875-20a88864b8b3"
      },
      "outputs": [
        {
          "output_type": "stream",
          "name": "stdout",
          "text": [
            "Recall at 80% Precision: 0.7683377308707124\n",
            "PR-AUC: 0.8599948804788721\n",
            "Precision:0.810732713386194\n",
            "F1:0.8083948674439747\n",
            "[[1609  286]\n",
            " [ 439 1456]]\n"
          ]
        },
        {
          "output_type": "display_data",
          "data": {
            "text/plain": [
              "<Figure size 432x288 with 1 Axes>"
            ],
            "image/png": "[encoded data removed]"
          },
          "metadata": {
            "needs_background": "light"
          }
        }
      ],
      "source": [
        "modelMetrics(testX_Org, testY_Org, rf_clf)\n",
        "_,y_rf=confusionMatrix(rf_clf, testX_Org, testY_Org)\n",
        "PRplot(testX_Org, testY_Org, rf_clf)"
      ]
    },
    {
      "cell_type": "markdown",
      "metadata": {
        "id": "QxCNXe1D1tYD"
      },
      "source": [
        "RF ENDS"
      ]
    },
    {
      "cell_type": "markdown",
      "metadata": {
        "id": "DsIwVAtY1unW"
      },
      "source": [
        "SVM STARTS"
      ]
    },
    {
      "cell_type": "code",
      "execution_count": 95,
      "metadata": {
        "colab": {
          "base_uri": "https://localhost:8080/"
        },
        "id": "4uHo0bHB1op7",
        "outputId": "4bfaacb3-ff81-46cd-c0cb-4df40aa4abf4"
      },
      "outputs": [
        {
          "output_type": "execute_result",
          "data": {
            "text/plain": [
              "SVC()"
            ]
          },
          "metadata": {},
          "execution_count": 95
        }
      ],
      "source": [
        "from sklearn import svm\n",
        "svm_clf = svm.SVC()\n",
        "svm_clf.fit(trainX_Org, trainY_Org)\n"
      ]
    },
    {
      "cell_type": "code",
      "execution_count": 96,
      "metadata": {
        "colab": {
          "base_uri": "https://localhost:8080/",
          "height": 402
        },
        "id": "Es-FDfaL2APM",
        "outputId": "63c3db5d-faa2-4f73-8399-150b56bc385f"
      },
      "outputs": [
        {
          "output_type": "stream",
          "name": "stdout",
          "text": [
            "Recall at 80% Precision: 0.0\n",
            "PR-AUC: 0.8230041861031947\n",
            "Precision:0.7637661140647805\n",
            "F1:0.7629021597135839\n",
            "[[1495  400]\n",
            " [ 498 1397]]\n"
          ]
        },
        {
          "output_type": "display_data",
          "data": {
            "text/plain": [
              "<Figure size 432x288 with 1 Axes>"
            ],
            "image/png": "[encoded data removed]"
          },
          "metadata": {
            "needs_background": "light"
          }
        }
      ],
      "source": [
        "modelMetrics(testX_Org, testY_Org, svm_clf)\n",
        "_,y_svm=confusionMatrix(svm_clf, testX_Org, testY_Org)\n",
        "PRplot(testX_Org, testY_Org, svm_clf)"
      ]
    },
    {
      "cell_type": "markdown",
      "metadata": {
        "id": "ajeBtLv0_Y0o"
      },
      "source": [
        "NAIVE BAYSE"
      ]
    },
    {
      "cell_type": "code",
      "execution_count": 97,
      "metadata": {
        "colab": {
          "base_uri": "https://localhost:8080/"
        },
        "id": "DEegvq35_aus",
        "outputId": "bcedceed-5b4f-49b1-da70-e7b9c864bf52"
      },
      "outputs": [
        {
          "output_type": "execute_result",
          "data": {
            "text/plain": [
              "GaussianNB()"
            ]
          },
          "metadata": {},
          "execution_count": 97
        }
      ],
      "source": [
        "from sklearn.naive_bayes import GaussianNB\n",
        "nb_clf = GaussianNB()\n",
        "nb_clf.fit(trainX_Org, trainY_Org)"
      ]
    },
    {
      "cell_type": "code",
      "execution_count": 98,
      "metadata": {
        "colab": {
          "base_uri": "https://localhost:8080/",
          "height": 402
        },
        "id": "xXlmfnhyADoQ",
        "outputId": "c55e295c-53b3-4fbd-e218-e39761500740"
      },
      "outputs": [
        {
          "output_type": "stream",
          "name": "stdout",
          "text": [
            "Recall at 80% Precision: 0.0\n",
            "PR-AUC: 0.7202914233197948\n",
            "Precision:0.6548366723199774\n",
            "F1:0.6256997917004204\n",
            "[[1531  364]\n",
            " [1013  882]]\n"
          ]
        },
        {
          "output_type": "display_data",
          "data": {
            "text/plain": [
              "<Figure size 432x288 with 1 Axes>"
            ],
            "image/png": "[encoded data removed]"
          },
          "metadata": {
            "needs_background": "light"
          }
        }
      ],
      "source": [
        "modelMetrics(testX_Org, testY_Org, nb_clf)\n",
        "_,y_nb=confusionMatrix(nb_clf, testX_Org, testY_Org)\n",
        "PRplot(testX_Org, testY_Org, nb_clf)"
      ]
    },
    {
      "cell_type": "markdown",
      "metadata": {
        "id": "WxfZZuVYAMf2"
      },
      "source": [
        "Logistic Regression"
      ]
    },
    {
      "cell_type": "code",
      "execution_count": 99,
      "metadata": {
        "colab": {
          "base_uri": "https://localhost:8080/"
        },
        "id": "pHHOOm0fARer",
        "outputId": "22a272d0-b6ae-41b3-f5f1-709c5277fa6a"
      },
      "outputs": [
        {
          "output_type": "stream",
          "name": "stderr",
          "text": [
            "/usr/local/lib/python3.7/dist-packages/sklearn/linear_model/_sag.py:354: ConvergenceWarning: The max_iter was reached which means the coef_ did not converge\n",
            "  ConvergenceWarning,\n"
          ]
        },
        {
          "output_type": "execute_result",
          "data": {
            "text/plain": [
              "LogisticRegression(solver='saga')"
            ]
          },
          "metadata": {},
          "execution_count": 99
        }
      ],
      "source": [
        "from sklearn.linear_model import LogisticRegression\n",
        "lr_clf = LogisticRegression(solver = 'saga')\n",
        "lr_clf.fit(trainX_Org, trainY_Org)"
      ]
    },
    {
      "cell_type": "code",
      "execution_count": 100,
      "metadata": {
        "colab": {
          "base_uri": "https://localhost:8080/",
          "height": 402
        },
        "id": "5aG3pLGIEt13",
        "outputId": "ad68d5d0-339b-4a80-bcac-7409bcbc198f"
      },
      "outputs": [
        {
          "output_type": "stream",
          "name": "stdout",
          "text": [
            "Recall at 80% Precision: 0.0\n",
            "PR-AUC: 0.7888269279729667\n",
            "Precision:0.7193052172011922\n",
            "F1:0.7188987105631365\n",
            "[[1398  497]\n",
            " [ 568 1327]]\n"
          ]
        },
        {
          "output_type": "display_data",
          "data": {
            "text/plain": [
              "<Figure size 432x288 with 1 Axes>"
            ],
            "image/png": "[encoded data removed]"
          },
          "metadata": {
            "needs_background": "light"
          }
        }
      ],
      "source": [
        "modelMetrics(testX_Org, testY_Org, lr_clf)\n",
        "_,y_lr=confusionMatrix(lr_clf, testX_Org, testY_Org)\n",
        "PRplot(testX_Org, testY_Org, lr_clf)"
      ]
    },
    {
      "cell_type": "markdown",
      "metadata": {
        "id": "XSVDf6YI2CRX"
      },
      "source": [
        "Analysis"
      ]
    },
    {
      "cell_type": "markdown",
      "source": [
        "STATISTICAL TESTS"
      ],
      "metadata": {
        "id": "ZOHGkEEm5PvP"
      }
    },
    {
      "cell_type": "code",
      "source": [
        "def McNemarsTest(model1_name,model2_name,actual,model1_pred,model2_pred):\n",
        "  print('==================================================')\n",
        "  print(f\"{model1_name} v/s {model2_name}\\n\")\n",
        "  actual = actual.reshape(-1)\n",
        "  model1_pred = np.array(model1_pred)\n",
        "  model2_pred = np.array(model2_pred)\n",
        "  contingency_table = mcnemar_table(y_target=actual, y_model1=model1_pred,y_model2=model2_pred)\n",
        "  print(pd.DataFrame(contingency_table,columns=[model1_name+\" Correct\",model1_name+\" Incorrect\"],index=[model2_name+\" Correct\",model2_name+\" Incorrect\"]))\n",
        "  statistic,pvalue=mcnemar(contingency_table,exact=True)\n",
        "  print(f\"\\nChi-Squared Test Statistic = {statistic}\")\n",
        "  print(f\"p-value = {pvalue}\")\n",
        "  print(f\"Odds Ratio = {contingency_table[1][0]/contingency_table[0][1]}\\n\")\n",
        "  print('==================================================')"
      ],
      "metadata": {
        "id": "W8lWTu535Td2"
      },
      "execution_count": null,
      "outputs": []
    },
    {
      "cell_type": "code",
      "source": [
        "print(\"Statistical McNemar's Test Results for all Classifier Comparisons\\n\")\n",
        "McNemarsTest(\"CNN\",\"Random Forest\",y_target,y_cnn,y_rf)\n",
        "McNemarsTest(\"CNN\",\"SVM\",y_target,y_cnn,y_svm)\n",
        "McNemarsTest(\"CNN\",\"Naive Bayes\",y_target,y_cnn,y_nb)\n",
        "McNemarsTest(\"CNN\",\"Logistic Regression\",y_target,y_cnn,y_lr)\n"
      ],
      "metadata": {
        "colab": {
          "base_uri": "https://localhost:8080/"
        },
        "id": "i4Nu5K2U5WEU",
        "outputId": "3e99d5dc-b370-46e5-9c7e-1fe44420ea13"
      },
      "execution_count": null,
      "outputs": [
        {
          "output_type": "stream",
          "name": "stdout",
          "text": [
            "Statistical McNemar's Test Results for all Classifier Comparisons\n",
            "\n",
            "==================================================\n",
            "CNN v/s Random Forest\n",
            "\n",
            "                         CNN Correct  CNN Incorrect\n",
            "Random Forest Correct           2781            264\n",
            "Random Forest Incorrect          429            316\n",
            "\n",
            "Chi-Squared Test Statistic = 264\n",
            "p-value = 3.8805116512521595e-10\n",
            "Odds Ratio = 1.625\n",
            "\n",
            "==================================================\n",
            "==================================================\n",
            "CNN v/s SVM\n",
            "\n",
            "               CNN Correct  CNN Incorrect\n",
            "SVM Correct           2639            254\n",
            "SVM Incorrect          571            326\n",
            "\n",
            "Chi-Squared Test Statistic = 254\n",
            "p-value = 7.771010505950436e-29\n",
            "Odds Ratio = 2.248031496062992\n",
            "\n",
            "==================================================\n",
            "==================================================\n",
            "CNN v/s Naive Bayes\n",
            "\n",
            "                       CNN Correct  CNN Incorrect\n",
            "Naive Bayes Correct           2092            321\n",
            "Naive Bayes Incorrect         1118            259\n",
            "\n",
            "Chi-Squared Test Statistic = 321\n",
            "p-value = 2.3506679932719145e-103\n",
            "Odds Ratio = 3.4828660436137073\n",
            "\n",
            "==================================================\n",
            "==================================================\n",
            "CNN v/s Logistic Regression\n",
            "\n",
            "                               CNN Correct  CNN Incorrect\n",
            "Logistic Regression Correct           2441            285\n",
            "Logistic Regression Incorrect          769            295\n",
            "\n",
            "Chi-Squared Test Statistic = 285\n",
            "p-value = 6.6545703974187026e-52\n",
            "Odds Ratio = 2.6982456140350877\n",
            "\n",
            "==================================================\n"
          ]
        }
      ]
    },
    {
      "cell_type": "code",
      "source": [
        ""
      ],
      "metadata": {
        "id": "dcZ0DTBUGeBE"
      },
      "execution_count": null,
      "outputs": []
    }
  ],
  "metadata": {
    "colab": {
      "name": "ACP_All_Models_withf1.ipynb",
      "provenance": []
    },
    "kernelspec": {
      "display_name": "Python 3",
      "language": "python",
      "name": "python3"
    },
    "language_info": {
      "codemirror_mode": {
        "name": "ipython",
        "version": 3
      },
      "file_extension": ".py",
      "mimetype": "text/x-python",
      "name": "python",
      "nbconvert_exporter": "python",
      "pygments_lexer": "ipython3",
      "version": "3.7.7"
    },
    "varInspector": {
      "cols": {
        "lenName": 16,
        "lenType": 16,
        "lenVar": 40
      },
      "kernels_config": {
        "python": {
          "delete_cmd_postfix": "",
          "delete_cmd_prefix": "del ",
          "library": "var_list.py",
          "varRefreshCmd": "print(var_dic_list())"
        },
        "r": {
          "delete_cmd_postfix": ") ",
          "delete_cmd_prefix": "rm(",
          "library": "var_list.r",
          "varRefreshCmd": "cat(var_dic_list()) "
        }
      },
      "types_to_exclude": [
        "module",
        "function",
        "builtin_function_or_method",
        "instance",
        "_Feature"
      ],
      "window_display": false
    }
  },
  "nbformat": 4,
  "nbformat_minor": 0
}